{
 "cells": [
  {
   "cell_type": "markdown",
   "id": "aacb3219",
   "metadata": {},
   "source": [
    "# GalaxieSQL\n",
    "\n",
    "## Description du projet\n",
    "\n",
    "Atelier SQL parents enfants: enseigner les bases de SQL (similaire à AccioQuery mais moins de détails, on veut seulement: select,*, from, where, AND, OR, NOT, LIKE) mais aussi comment entrer un nouveau élément dans la base de données: ``INSERT INTO ... VALUES ...``. Pour cela le pitch:\n",
    "> Vous êtes des scientifiques de l'espace et vous vous intéressez aux habitants de planêtes habitées récemment découvertes. Trouvez le nom d'un extraterestre qui n'as pas encore été étudié grâce à la base de données. (on leur dira de noter le nom sur un post-it et le coller sur le poster lorsqu'elle l'auront trouvé). Quelques extraterrestres n'ont pas encore été ajoutés dans la base de données (on les notes avec des points d'interrogation), ajoutez les et assurez vous ensuite qu'ils ont bien été ajoutés à la base de données. \n",
    "\n",
    "Dans un second temps, on pourrait aussi leur proposer de générer leur propre extraterrestre (c.f. génération d'image d'alien à partir de description). Pour cette seconde partie, il faudrait avoir un moyen de lancer la fonction."
   ]
  },
  {
   "cell_type": "code",
   "execution_count": 55,
   "id": "905a2587",
   "metadata": {},
   "outputs": [
    {
     "name": "stdout",
     "output_type": "stream",
     "text": [
      "/home/mischa/d/Meetup\n"
     ]
    }
   ],
   "source": [
    "import sqlite3 # gérer les bases de données\n",
    "import pickle # sauvegarder des structures de données python \n",
    "import csv # pour lire et modifier les fichiers csv\n",
    "import random # pour générer des nombres aléatoires\n",
    "from PIL import Image # Pour afficher et modifier les images\n",
    "from IPython.display import SVG\n",
    "from aliens import generate_alien,change_colour,draw_alien, dessine_alien as draw_alien_svg # fonction implémentées dans aliens.py utile pour la génération d'aliens et le changement de couleur\n",
    "import os\n",
    "print(os.getcwd()) #current working directory"
   ]
  },
  {
   "cell_type": "markdown",
   "id": "98897636",
   "metadata": {},
   "source": [
    "## Génération des attributs\n",
    "On commence par définir les attributs que l'on veut pour nos aliens. On fait des listes pour certains attributs et on utilise des liste csv externe pour les noms."
   ]
  },
  {
   "cell_type": "code",
   "execution_count": 56,
   "id": "8d84c82d",
   "metadata": {},
   "outputs": [],
   "source": [
    "palette_RGB = {\"bleu\":(0,0,255), \"gris\":(100,100,100), \"noir\":(0,0,0),\"violet\":(128, 0, 255),\n",
    "           \"rouge\":(255,0,0),\"blanc\":(255,255,255),\"vert\":(0,255,0),\"jaune\":(255,255,0),\n",
    "           \"rose\":(255, 0, 255),\"orange\":(255,150,0),\"marron\":(150,100,50)}\n",
    "palette = {\"bleu\":\"#0000ff\", \"gris\":\"#646464\", \"noir\":\"#000000\",\"violet\":\"#8000ff\",\n",
    "           \"rouge\":\"#ff0000\",\"blanc\":\"#ffffff\",\"vert\":\"#00ff00\",\"jaune\":\"#ffff00\",\n",
    "           \"rose\":\"#ff00ff\",\"orange\":\"#ff9000\",\"marron\":\"#64503c\"}\n",
    "palette_RGB_de = {\"blau\":(0,0,255), \"grau\":(100,100,100), \"schwarz\":(0,0,0),\"violett\":(128, 0, 255),\n",
    "           \"rot\":(255,0,0),\"weiss\":(255,255,255),\"grün\":(0,255,0),\"gelb\":(255,255,0),\n",
    "           \"rosa\":(255, 0, 255),\"orange\":(255,150,0),\"braun\":(150,100,50)}\n",
    "palette_de = {\"blau\":\"#0000ff\", \"grau\":\"#646464\", \"schwarz\":\"#000000\",\"violett\":\"#8000ff\",\n",
    "           \"rot\":\"#ff0000\",\"weiss\":\"#ffffff\",\"grün\":\"#00ff00\",\"gelb\":\"#ffff00\",\n",
    "           \"rosa\":\"#ff00ff\",\"orange\":\"#ff9000\",\"braun\":\"#64503c\"}\n",
    "attributs = dict({\"nom\" : [],\n",
    "\"couleurs\" : palette,\n",
    "\"couleurs_RGB\": palette_RGB,\n",
    "\"farben\" : palette_de,\n",
    "\"farben_RGB\": palette_RGB_de,\n",
    "\"planète\" : [\"céplusplus\", \"scratchon\", \"pythos\"],\n",
    "\"visage\" : [\"trompe\",\"bec\",\"museau\",\"rien\",\"nez\",\"bouche\",\"corne\"],\n",
    "\"Gesicht\" : [\"Rüssel\",\"Schnabel\", \"Schnauze\",\"nichts\",\"Nase\",\"Mund\",\"Horn\"],\n",
    "\"tête\" : [\"ronde\",\"ovale\",\"carrée\",\"triangulaire\",\"difforme\"],\n",
    "\"Kopf\" : [\"rund\",\"oval\",\"rechteckig\",\"dreieckig\",\"unförmig\"],\n",
    "\"peau\" : [\"poils\",\"rien\",\"écailles\",\"épines\",\"plumes\",\"carapace\"],\n",
    "\"Haut\" : [\"Haare\", \"nichts\", \"Schuppen\", \"Stachel\", \"Federn\", \"Panzer\"],\n",
    "\"ingrédients\" : [\"à l\\'aubergine\",\"au olives\",\"au poivrons\",\"à la mozarella\",\"à la burrata\",\"au gorgonzola\",\"Gruyère\",\"au poivre\",\n",
    "                 \"au sel\",\"à l\\'huile d\\'olive\",\"à l\\'ananas\", \"au sugus\",\"à la fraise\",\"au chocolat\"],\n",
    "\"Zutaten\" : [\"Aubergine\", \"Oliven\", \"Paprika\", \"Mozarella\", \"Burrata\", \"Gorgonzola\", \"Gruyère\", \"Pfeffer\",\n",
    "            \"Saltz\", \"Olivenöl\", \"Ananas\", \"Sugus\", \"Erdbeeren\", \"Schokolade\"]\n",
    "}) "
   ]
  },
  {
   "cell_type": "code",
   "execution_count": 57,
   "id": "5a218ea7",
   "metadata": {},
   "outputs": [
    {
     "name": "stdout",
     "output_type": "stream",
     "text": [
      "{'bleu': '#0000ff', 'gris': '#646464', 'noir': '#000000', 'violet': '#8000ff', 'rouge': '#ff0000', 'blanc': '#ffffff', 'vert': '#00ff00', 'jaune': '#ffff00', 'rose': '#ff00ff', 'orange': '#ff9000', 'marron': '#64503c'}\n"
     ]
    }
   ],
   "source": [
    "noms_latin=[]\n",
    "with open('noms_latin2.csv', newline='') as csvfile:\n",
    "    spamreader = csv.reader(csvfile, delimiter=',')\n",
    "    for line in spamreader:\n",
    "        noms_latin.append(line[0])\n",
    "attributs[\"nom\"] = noms_latin[1:]\n",
    "attributs[\"nom\"].extend(['BASICUS','COBOLUS','COQUS','CURLUS','FORTRUS','GONUM', 'HASKELLION', 'JAVIA',\n",
    "                        'KOTLINI','LISPUS','MATLABUM','OCAMLIUM','PASCALANS','TEX','WOLFRAM'])\n",
    "print(attributs[\"couleurs\"])"
   ]
  },
  {
   "cell_type": "code",
   "execution_count": 58,
   "id": "f1cc8c87",
   "metadata": {},
   "outputs": [],
   "source": [
    "# On sauvegarde le tout pour ré-ouvrir plus tard dans aliens.py\n",
    "with open('attributs_aliens.pkl', 'wb') as f:\n",
    "    pickle.dump(attributs, f)"
   ]
  },
  {
   "cell_type": "code",
   "execution_count": 59,
   "id": "a94ac35c",
   "metadata": {},
   "outputs": [
    {
     "name": "stdout",
     "output_type": "stream",
     "text": [
      "{'nom': ['ACER', 'ACHILLEA', 'ACHNATHERUM', 'ACONITUM', 'ACTINIDIA', 'ADIANTHUM', 'AEGOPODIUM', 'AESCULUS', 'AJUGA', 'ALCHEMILLA', 'ALNUS', 'ALTHAE', 'AMORPHA', 'ANDROMEDA', 'AQUILEGIA', 'ARABIS', 'ARA\\xa0LIA', 'ARCTOSTAPHYLOS', 'ARENARIA', 'ARISAEMA', 'ARMERIA', 'ARONIA', 'ARTEMISIA', 'ARUNCUS', 'ASARUM', 'ASIMINA', 'ASTILBOIDES', 'ASTRANTIA', 'AZALEA', 'BERBERIS', 'BETULA', 'BRUNNERA', 'BUXUS', 'CALLUNA', 'CAMPANULA', 'CARAGANA', 'CAREX', 'CARPINUS', 'CARYA', 'CASSANDRA', 'CELASTRUS', 'CELTIS', 'CENTAUREA', 'CERASTIUM', 'CENTRANTHUS', 'CEPHALANTUS', 'CHAENOMELES', 'CHAMAECYPARIS', 'CHIONANTHUS', 'CHRYSANTHEMUM', 'CIMICIFUGA', 'CLEMATIS', 'CLETHRA', 'COMPTONIA', 'CONVALLARIA', 'CORNUS', 'CORYLUS', 'COTINUS', 'CRATAEGUS', 'CYTISUS', 'DELPHINIUM', 'DIANTHUS', 'DICENTRA', 'DIGITALIS', 'DIRCA', 'DIERVILLA', 'DRYOPTERIS ', 'ECHINACEA', 'ECHINOPS', 'ELEAGNUS', 'ELEUTHEROCOCCUS', 'EMPETRUM', 'EPIMEDIUM', 'ERYNGIUM', 'EUONYMUS', 'EUPATORIUM', 'EUPHORBIA', 'FAGUS', 'FALLOPIA', 'FESTUCA', 'FILIPENDULA', 'FRAGARIA', 'FRAXINUS', 'GAILLARDA', 'GAULTHERIA', 'GENISTA', 'GENTIANA', 'GEUM', 'GINGKO', 'GLEDITSIA', 'GYMNOCLADUS', 'GYSOPHILA', 'HEDERA', 'HELENIUM', 'HELIANTHUS', 'HELICTOTRICHON', 'HELIOPSIS', 'HEUCHERA', 'HEUCHERELLA', 'HIPPOPHAE', 'HUMULUS', 'HYDRANGEA', 'HYPERICUM', 'IBERIS', 'ILEX', 'JOVIBARBA', 'JUGLANS', 'JUNIPERUS', 'LAMIUM', 'LARIX', 'LAVANDULA', 'LEONTOPODIUM', 'LIATRIS', 'LIGULARIA', 'LIGUSTRUM', 'LILIUM', 'LONICERA', 'LUPINUS', 'LYCHNIS', 'LYSIMACHIA', 'LYTHRUM', 'MAHONIA', 'MALVA', 'MALUS', 'MATTEUCIA', 'MONARDA', 'MORUS', 'MYRICA', 'NEMOPANTHUS', 'NEPETA', 'OENOTHERA', 'OSMUNDA', 'OSTRYA', 'PACHYSANDRA', 'PAEONIA', 'PANICUM', 'PAPAVER', 'PARTHENOCISSUS', 'PELTIPHYLLUM', 'PEROVSKIA', 'PETASITES', 'PHYSOSTEGIA', 'PICEA', 'PINUS', 'PHILADELPHUS', 'PHYSOCARPUS', 'POLEMONIUM', 'POLYGONATUM', 'POLYSTICHUM', 'PRIMULA', 'POTENTILLA', 'PRUNUS', 'PULMONARIA', 'PYRUS', 'QUERCUS', 'RHAMUS', 'RHUS', 'RIBES', 'ROBINA', 'RODGERSIA', 'ROSA', 'RUBUS', 'RUDBECKIA', 'SALIX', 'SALVIA', 'SAMBUCUS', 'SAXIFRAGA', 'SCABIOSA', 'SEDUM', 'SHEPHERDIA', 'SORBUS', 'SORGHASTRUM', 'SPIRAEA', 'STACHYS', 'SYMPHORICARPOS', 'SYRINGA', 'TAMARIX', 'TANACETUM', 'TAXUS', 'THALICTRUM', 'THUJA', 'THYMUS', 'TIARELLA', 'TILIA', 'TRADESCANTIA', 'TRIFOLIUM', 'TRILLIUM', 'TROLLIUS', 'TSUGA', 'ULMUS', 'VACCINIUM', 'VERONICA', 'VIBURNUM', 'VINCA', 'VIOLA', 'VITIS', 'WEIGELA', 'WISTERIA', 'BASICUS', 'COBOLUS', 'COQUS', 'CURLUS', 'FORTRUS', 'GONUM', 'HASKELLION', 'JAVIA', 'KOTLINI', 'LISPUS', 'MATLABUM', 'OCAMLIUM', 'PASCALANS', 'TEX', 'WOLFRAM'], 'couleurs': {'bleu': '#0000ff', 'gris': '#646464', 'noir': '#000000', 'violet': '#8000ff', 'rouge': '#ff0000', 'blanc': '#ffffff', 'vert': '#00ff00', 'jaune': '#ffff00', 'rose': '#ff00ff', 'orange': '#ff9000', 'marron': '#64503c'}, 'couleurs_RGB': {'bleu': (0, 0, 255), 'gris': (100, 100, 100), 'noir': (0, 0, 0), 'violet': (128, 0, 255), 'rouge': (255, 0, 0), 'blanc': (255, 255, 255), 'vert': (0, 255, 0), 'jaune': (255, 255, 0), 'rose': (255, 0, 255), 'orange': (255, 150, 0), 'marron': (150, 100, 50)}, 'farben': {'blau': '#0000ff', 'grau': '#646464', 'schwarz': '#000000', 'violett': '#8000ff', 'rot': '#ff0000', 'weiss': '#ffffff', 'grün': '#00ff00', 'gelb': '#ffff00', 'rosa': '#ff00ff', 'orange': '#ff9000', 'braun': '#64503c'}, 'farben_RGB': {'blau': (0, 0, 255), 'grau': (100, 100, 100), 'schwarz': (0, 0, 0), 'violett': (128, 0, 255), 'rot': (255, 0, 0), 'weiss': (255, 255, 255), 'grün': (0, 255, 0), 'gelb': (255, 255, 0), 'rosa': (255, 0, 255), 'orange': (255, 150, 0), 'braun': (150, 100, 50)}, 'planète': ['céplusplus', 'scratchon', 'pythos'], 'visage': ['trompe', 'bec', 'museau', 'rien', 'nez', 'bouche', 'corne'], 'Gesicht': ['Rüssel', 'Schnabel', 'Schnauze', 'nichts', 'Nase', 'Mund', 'Horn'], 'tête': ['ronde', 'ovale', 'carrée', 'triangulaire', 'difforme'], 'Kopf': ['rund', 'oval', 'rechteckig', 'dreieckig', 'unförmig'], 'peau': ['poils', 'rien', 'écailles', 'épines', 'plumes', 'carapace'], 'Haut': ['Haare', 'nichts', 'Schuppen', 'Stachel', 'Federn', 'Panzer'], 'ingrédients': [\"à l'aubergine\", 'au olives', 'au poivrons', 'à la mozarella', 'à la burrata', 'au gorgonzola', 'Gruyère', 'au poivre', 'au sel', \"à l'huile d'olive\", \"à l'ananas\", 'au sugus', 'à la fraise', 'au chocolat'], 'Zutaten': ['Aubergine', 'Oliven', 'Paprika', 'Mozarella', 'Burrata', 'Gorgonzola', 'Gruyère', 'Pfeffer', 'Saltz', 'Olivenöl', 'Ananas', 'Sugus', 'Erdbeeren', 'Schokolade']}\n"
     ]
    }
   ],
   "source": [
    "# Pas indispensable mais pour vérifier que l'on a bien enregistré le tout\n",
    "with open('attributs_aliens.pkl', 'rb') as f:\n",
    "    loaded_dict = pickle.load(f)\n",
    "print(loaded_dict)"
   ]
  },
  {
   "cell_type": "markdown",
   "id": "aa4a5e92",
   "metadata": {},
   "source": [
    "## Génération de la base de données \n",
    "On se connecte à la base de donnée avec un curseur par lequel on peut faire passer les commandes sur la base de données."
   ]
  },
  {
   "cell_type": "code",
   "execution_count": 60,
   "id": "56943e37",
   "metadata": {},
   "outputs": [],
   "source": [
    "connection = sqlite3.connect(\"aliens_fr.db\")\n",
    "connection_de = sqlite3.connect(\"alien_de.db\")\n",
    "cursor = connection.cursor()\n",
    "cursor_de = connection_de.cursor()"
   ]
  },
  {
   "cell_type": "markdown",
   "id": "c1fc7239",
   "metadata": {},
   "source": [
    "On crée un tableau dans la base de données. Ceci doit seulement être fait la première fois que l'on crée le tableau."
   ]
  },
  {
   "cell_type": "code",
   "execution_count": 63,
   "id": "8ba3ff29",
   "metadata": {},
   "outputs": [
    {
     "ename": "OperationalError",
     "evalue": "table extraterrestres already exists",
     "output_type": "error",
     "traceback": [
      "\u001b[0;31m---------------------------------------------------------------------------\u001b[0m",
      "\u001b[0;31mOperationalError\u001b[0m                          Traceback (most recent call last)",
      "Cell \u001b[0;32mIn[63], line 1\u001b[0m\n\u001b[0;32m----> 1\u001b[0m \u001b[43mcursor\u001b[49m\u001b[38;5;241;43m.\u001b[39;49m\u001b[43mexecute\u001b[49m\u001b[43m(\u001b[49m\n\u001b[1;32m      2\u001b[0m \u001b[43m    \u001b[49m\u001b[38;5;124;43m\"\u001b[39;49m\u001b[38;5;124;43mCREATE TABLE extraterrestres (nom TEXT NOT NULL PRIMARY KEY, \u001b[39;49m\u001b[38;5;130;43;01m\\\u001b[39;49;00m\n\u001b[1;32m      3\u001b[0m \u001b[38;5;124;43m    planète TEXT, \u001b[39;49m\u001b[38;5;130;43;01m\\\u001b[39;49;00m\n\u001b[1;32m      4\u001b[0m \u001b[38;5;124;43m    nombre_membres INT, \u001b[39;49m\u001b[38;5;130;43;01m\\\u001b[39;49;00m\n\u001b[1;32m      5\u001b[0m \u001b[38;5;124;43m    taille INT, \u001b[39;49m\u001b[38;5;130;43;01m\\\u001b[39;49;00m\n\u001b[1;32m      6\u001b[0m \u001b[38;5;124;43m    nombre_yeux INT, couleur_yeux TEXT, \u001b[39;49m\u001b[38;5;130;43;01m\\\u001b[39;49;00m\n\u001b[1;32m      7\u001b[0m \u001b[38;5;124;43m    peau TEXT, couleur_peau TEXT,\u001b[39;49m\u001b[38;5;130;43;01m\\\u001b[39;49;00m\n\u001b[1;32m      8\u001b[0m \u001b[38;5;124;43m    antennes INT, visage TEXT, tête TEXT, \u001b[39;49m\u001b[38;5;130;43;01m\\\u001b[39;49;00m\n\u001b[1;32m      9\u001b[0m \u001b[38;5;124;43m    pizza TEXT)\u001b[39;49m\u001b[38;5;124;43m\"\u001b[39;49m\u001b[43m)\u001b[49m\n\u001b[1;32m     10\u001b[0m cursor_de\u001b[38;5;241m.\u001b[39mexecute(\n\u001b[1;32m     11\u001b[0m     \u001b[38;5;124m\"\u001b[39m\u001b[38;5;124mCREATE TABLE Ausserirdische (Name TEXT NOT NULL PRIMARY KEY, \u001b[39m\u001b[38;5;130;01m\\\u001b[39;00m\n\u001b[1;32m     12\u001b[0m \u001b[38;5;124m    Planet TEXT, \u001b[39m\u001b[38;5;130;01m\\\u001b[39;00m\n\u001b[0;32m   (...)\u001b[0m\n\u001b[1;32m     17\u001b[0m \u001b[38;5;124m    Antennen INT, Gesicht TEXT, Kopf TEXT, \u001b[39m\u001b[38;5;130;01m\\\u001b[39;00m\n\u001b[1;32m     18\u001b[0m \u001b[38;5;124m    Pizza TEXT)\u001b[39m\u001b[38;5;124m\"\u001b[39m)\n",
      "\u001b[0;31mOperationalError\u001b[0m: table extraterrestres already exists"
     ]
    }
   ],
   "source": [
    "cursor.execute(\n",
    "    \"CREATE TABLE extraterrestres (nom TEXT NOT NULL PRIMARY KEY, \\\n",
    "    planète TEXT, \\\n",
    "    nombre_membres INT, \\\n",
    "    taille INT, \\\n",
    "    nombre_yeux INT, couleur_yeux TEXT, \\\n",
    "    peau TEXT, couleur_peau TEXT,\\\n",
    "    antennes INT, visage TEXT, tête TEXT, \\\n",
    "    pizza TEXT)\")\n",
    "cursor_de.execute(\n",
    "    \"CREATE TABLE Ausserirdische (Name TEXT NOT NULL PRIMARY KEY, \\\n",
    "    Planet TEXT, \\\n",
    "    Anzahl_Koerperglieder INT, \\\n",
    "    Groesse INT, \\\n",
    "    anzahl_Augen INT, farbe_Augen TEXT, \\\n",
    "    Haut TEXT, farbe_Haut TEXT,\\\n",
    "    Antennen INT, Gesicht TEXT, Kopf TEXT, \\\n",
    "    Pizza TEXT)\")"
   ]
  },
  {
   "cell_type": "markdown",
   "id": "80996d64",
   "metadata": {},
   "source": [
    "On va ensuite peupler la base de données. Pour cela, on utilise la fonction ``` generate_alien() ``` définie dans le fichier alien.py. On veut que les noms des aliens soient uniques (et par extension leur attributs sont uniques) donc on ignore les doublons. "
   ]
  },
  {
   "cell_type": "code",
   "execution_count": 64,
   "id": "3d755e47",
   "metadata": {
    "scrolled": true
   },
   "outputs": [],
   "source": [
    "nAliens = 9000\n",
    "for alien in range(nAliens):\n",
    "    attributs_fr, attributs_de = generate_alien()\n",
    "    try:\n",
    "        cursor.execute(f'Insert INTO extraterrestres VALUES(\"{attributs_fr[0]}\",\\\n",
    "\"{attributs_fr[1]}\",{attributs_fr[2]},{attributs_fr[3]},{attributs_fr[4]},\\\n",
    "\"{attributs_fr[5]}\",\"{attributs_fr[6]}\",\"{attributs_fr[7]}\",{attributs_fr[8]},\\\n",
    "\"{attributs_fr[9]}\",\"{attributs_fr[10]}\",\"{attributs_fr[11]}\")')\n",
    "        cursor_de.execute(f'Insert INTO Ausserirdische VALUES(\"{attributs_de[0]}\",\\\n",
    "\"{attributs_de[1]}\",{attributs_de[2]},{attributs_de[3]},{attributs_de[4]},\\\n",
    "\"{attributs_de[5]}\",\"{attributs_de[6]}\",\"{attributs_de[7]}\",{attributs_de[8]},\\\n",
    "\"{attributs_de[9]}\",\"{attributs_de[10]}\",\"{attributs_de[11]}\")')\n",
    "    except:\n",
    "        #print(f\"{attributs_fr[0]} existe déjà\")\n",
    "        continue"
   ]
  },
  {
   "cell_type": "markdown",
   "id": "9a81040e",
   "metadata": {},
   "source": [
    "On peut tester les bases de donnée ici:"
   ]
  },
  {
   "cell_type": "code",
   "execution_count": 65,
   "id": "0fc8a6b1",
   "metadata": {},
   "outputs": [
    {
     "name": "stdout",
     "output_type": "stream",
     "text": [
      "[('ROBINA_5340', 'pythos', 5, 3395, 4, 'rouge', 'plumes', 'rose', 0, 'trompe', 'difforme', \"Pizza au poivre, à la burrata, à l'ananas, au sel, et au gorgonzola.\"), ('FILIPENDULA_1481', 'pythos', 1, 4436, 8, 'orange', 'écailles', 'noir', 1, 'corne', 'difforme', 'Pizza à la fraise')]\n",
      "[('ROBINA_5340', 'pythos', 5, 3395, 4, 'rot', 'Federn', 'rosa', 0, 'Rüssel', 'unförmig', 'Pizza mit Aubergine, und Ananas.'), ('FILIPENDULA_1481', 'pythos', 1, 4436, 8, 'orange', 'Schuppen', 'schwarz', 1, 'Horn', 'unförmig', 'Pizza mit Gruyère, Gorgonzola, Ananas, und Oliven.')]\n"
     ]
    }
   ],
   "source": [
    "# Nom des colones\n",
    "# print(cursor.execute(\"PRAGMA table_info(extraterrestres)\").fetchall())\n",
    "# print(cursor.execute(f\"SELECT * from extraterrestres LIMIT 3\").fetchall())\n",
    "print(cursor.execute(\"SELECT * from extraterrestres LIMIT 2\").fetchall())\n",
    "print(cursor_de.execute(\"SELECT * from Ausserirdische LIMIT 2\").fetchall())"
   ]
  },
  {
   "cell_type": "markdown",
   "id": "b0aba7a3",
   "metadata": {},
   "source": [
    "Enfin, il faut toujours sauvegarder les changements dans la base de données puis rompre la connection."
   ]
  },
  {
   "cell_type": "code",
   "execution_count": 66,
   "id": "7271657b",
   "metadata": {
    "scrolled": true
   },
   "outputs": [],
   "source": [
    "#sauver les changements\n",
    "connection.commit()\n",
    "connection_de.commit()\n",
    "#fermer la connection à la base de données\n",
    "cursor.close()\n",
    "cursor_de.close()\n",
    "connection.close()\n",
    "connection_de.close()"
   ]
  },
  {
   "cell_type": "markdown",
   "id": "f02dea01",
   "metadata": {},
   "source": [
    "### Génération d'image d'alien à partir de description\n",
    "On essaie de générer des dessins d'aliens à partir de leur description. Pour cela on prépare différentes versions des différents aliens avec adobe illustrator. Rester dans les délimitations pour les différentes parties pour que ça match. Fichier->Exporter->Exporter sous-> cocher utiliser les plans de travail, Exporter en png. Puis on les combines. On peut donc créer un alien pour chaque entrée dans la base de données. Cela pourrait également être une autre partie dans l'atelier: créer son propre alien (plus en lien avec le design mais ça pourrait être amusant quand même).\n",
    "\n",
    "La génération d'aliens est implémentée dans le document ```aliens.py``` et il y a un liste d'attributs à modifier."
   ]
  },
  {
   "cell_type": "code",
   "execution_count": 67,
   "id": "8e86defc",
   "metadata": {},
   "outputs": [
    {
     "ename": "FileNotFoundError",
     "evalue": "[Errno 2] No such file or directory: 'images/yeux_3.svg'",
     "output_type": "error",
     "traceback": [
      "\u001b[0;31m---------------------------------------------------------------------------\u001b[0m",
      "\u001b[0;31mFileNotFoundError\u001b[0m                         Traceback (most recent call last)",
      "Cell \u001b[0;32mIn[67], line 6\u001b[0m\n\u001b[1;32m      1\u001b[0m \u001b[38;5;66;03m# with open('merged.svg','r') as f:\u001b[39;00m\n\u001b[1;32m      2\u001b[0m \u001b[38;5;66;03m#     svg_data = f.read()\u001b[39;00m\n\u001b[1;32m      3\u001b[0m \u001b[38;5;66;03m# mod_image = svg_data.replace(\"#66b32e\",\"#0000ff\")\u001b[39;00m\n\u001b[1;32m      4\u001b[0m \u001b[38;5;66;03m# SVG(mod_image)\u001b[39;00m\n\u001b[1;32m      5\u001b[0m \u001b[38;5;28;01mfor\u001b[39;00m i \u001b[38;5;129;01min\u001b[39;00m \u001b[38;5;28mrange\u001b[39m(\u001b[38;5;241m20\u001b[39m):\n\u001b[0;32m----> 6\u001b[0m     \u001b[43mdraw_alien_svg\u001b[49m\u001b[43m(\u001b[49m\u001b[43mfilename\u001b[49m\u001b[43m \u001b[49m\u001b[38;5;241;43m=\u001b[39;49m\u001b[43m \u001b[49m\u001b[38;5;124;43mf\u001b[39;49m\u001b[38;5;124;43m\"\u001b[39;49m\u001b[38;5;124;43malien\u001b[39;49m\u001b[38;5;132;43;01m{\u001b[39;49;00m\u001b[43mi\u001b[49m\u001b[38;5;132;43;01m}\u001b[39;49;00m\u001b[38;5;124;43m.svg\u001b[39;49m\u001b[38;5;124;43m\"\u001b[39;49m\u001b[43m,\u001b[49m\u001b[43m \u001b[49m\u001b[43msave\u001b[49m\u001b[38;5;241;43m=\u001b[39;49m\u001b[38;5;28;43;01mTrue\u001b[39;49;00m\u001b[43m,\u001b[49m\u001b[43m \u001b[49m\u001b[43mpeau\u001b[49m\u001b[38;5;241;43m=\u001b[39;49m\u001b[43m[\u001b[49m\u001b[38;5;124;43m\"\u001b[39;49m\u001b[38;5;124;43mécailles\u001b[39;49m\u001b[38;5;124;43m\"\u001b[39;49m\u001b[43m,\u001b[49m\u001b[38;5;124;43m\"\u001b[39;49m\u001b[38;5;124;43mpoils\u001b[39;49m\u001b[38;5;124;43m\"\u001b[39;49m\u001b[43m,\u001b[49m\u001b[38;5;124;43m\"\u001b[39;49m\u001b[38;5;124;43mrien\u001b[39;49m\u001b[38;5;124;43m\"\u001b[39;49m\u001b[43m]\u001b[49m\u001b[43m[\u001b[49m\u001b[43mi\u001b[49m\u001b[38;5;241;43m%\u001b[39;49m\u001b[38;5;241;43m3\u001b[39;49m\u001b[43m]\u001b[49m\u001b[43m)\u001b[49m\n",
      "File \u001b[0;32m~/d/Meetup/aliens.py:139\u001b[0m, in \u001b[0;36mdessine_alien\u001b[0;34m(nombre_membres, nombre_yeux, couleur_yeux, peau, couleur_peau, antennes, visage, tete, save, filename)\u001b[0m\n\u001b[1;32m    137\u001b[0m \u001b[38;5;28;01mwith\u001b[39;00m \u001b[38;5;28mopen\u001b[39m(\u001b[38;5;124m\"\u001b[39m\u001b[38;5;124mimages/temp/visage.svg\u001b[39m\u001b[38;5;124m\"\u001b[39m, \u001b[38;5;124m\"\u001b[39m\u001b[38;5;124mwb\u001b[39m\u001b[38;5;124m\"\u001b[39m) \u001b[38;5;28;01mas\u001b[39;00m f:\n\u001b[1;32m    138\u001b[0m     f\u001b[38;5;241m.\u001b[39mwrite(visage_data\u001b[38;5;241m.\u001b[39mencode())\n\u001b[0;32m--> 139\u001b[0m \u001b[38;5;28;01mwith\u001b[39;00m \u001b[38;5;28;43mopen\u001b[39;49m\u001b[43m(\u001b[49m\u001b[38;5;124;43mf\u001b[39;49m\u001b[38;5;124;43m\"\u001b[39;49m\u001b[38;5;124;43mimages/yeux_\u001b[39;49m\u001b[38;5;132;43;01m{\u001b[39;49;00m\u001b[43mnombre_yeux\u001b[49m\u001b[38;5;250;43m \u001b[39;49m\u001b[38;5;28;43;01mif\u001b[39;49;00m\u001b[38;5;250;43m \u001b[39;49m\u001b[43mnombre_yeux\u001b[49m\u001b[38;5;250;43m \u001b[39;49m\u001b[38;5;129;43;01mis\u001b[39;49;00m\u001b[38;5;250;43m \u001b[39;49m\u001b[38;5;129;43;01mnot\u001b[39;49;00m\u001b[38;5;250;43m \u001b[39;49m\u001b[38;5;28;43;01mNone\u001b[39;49;00m\u001b[38;5;250;43m \u001b[39;49m\u001b[38;5;28;43;01melse\u001b[39;49;00m\u001b[38;5;250;43m \u001b[39;49m\u001b[43mrandom\u001b[49m\u001b[38;5;241;43m.\u001b[39;49m\u001b[43mrandint\u001b[49m\u001b[43m(\u001b[49m\u001b[38;5;241;43m1\u001b[39;49m\u001b[43m,\u001b[49m\u001b[38;5;241;43m3\u001b[39;49m\u001b[43m)\u001b[49m\u001b[38;5;132;43;01m}\u001b[39;49;00m\u001b[38;5;124;43m.svg\u001b[39;49m\u001b[38;5;124;43m\"\u001b[39;49m\u001b[43m,\u001b[49m\u001b[43m \u001b[49m\u001b[38;5;124;43m'\u001b[39;49m\u001b[38;5;124;43mr\u001b[39;49m\u001b[38;5;124;43m'\u001b[39;49m\u001b[43m)\u001b[49m \u001b[38;5;28;01mas\u001b[39;00m f:\n\u001b[1;32m    140\u001b[0m     yeux_data \u001b[38;5;241m=\u001b[39m f\u001b[38;5;241m.\u001b[39mread()\n\u001b[1;32m    141\u001b[0m yeux_data \u001b[38;5;241m=\u001b[39m yeux_data\u001b[38;5;241m.\u001b[39mreplace(\u001b[38;5;124m\"\u001b[39m\u001b[38;5;124m#66b32e\u001b[39m\u001b[38;5;124m\"\u001b[39m,attributs[\u001b[38;5;124m'\u001b[39m\u001b[38;5;124mcouleurs\u001b[39m\u001b[38;5;124m'\u001b[39m][couleur_yeux \u001b[38;5;28;01mif\u001b[39;00m couleur_yeux \u001b[38;5;129;01mis\u001b[39;00m \u001b[38;5;129;01mnot\u001b[39;00m \u001b[38;5;28;01mNone\u001b[39;00m \u001b[38;5;28;01melse\u001b[39;00m random\u001b[38;5;241m.\u001b[39mchoice(\u001b[38;5;28mlist\u001b[39m(attributs[\u001b[38;5;124m'\u001b[39m\u001b[38;5;124mcouleurs\u001b[39m\u001b[38;5;124m'\u001b[39m]\u001b[38;5;241m.\u001b[39mkeys()))])\n",
      "\u001b[0;31mFileNotFoundError\u001b[0m: [Errno 2] No such file or directory: 'images/yeux_3.svg'"
     ]
    }
   ],
   "source": [
    "# with open('merged.svg','r') as f:\n",
    "#     svg_data = f.read()\n",
    "# mod_image = svg_data.replace(\"#66b32e\",\"#0000ff\")\n",
    "# SVG(mod_image)\n",
    "for i in range(20):\n",
    "    draw_alien_svg(filename = f\"alien{i}.svg\", save=True, peau=[\"écailles\",\"poils\",\"rien\"][i%3])"
   ]
  },
  {
   "cell_type": "markdown",
   "id": "8f5019c1",
   "metadata": {},
   "source": [
    "Faire une fonction ou on peut mettre les attributs pour générer les aliens. \n",
    "Afficher alien avec nom CORVUS_42 (va chercher attributs de corvus 42 et affiche).\n",
    "Sauvegarder quelques images.\n",
    "\n",
    "Important de savoir comment nommer les aliens"
   ]
  },
  {
   "cell_type": "code",
   "execution_count": 9,
   "id": "a5d23ee9",
   "metadata": {},
   "outputs": [
    {
     "name": "stdout",
     "output_type": "stream",
     "text": [
      "{(116, 171, 65, 255), (122, 149, 92, 255), (0, 0, 0, 48), (0, 0, 0, 112), (124, 156, 88, 255), (0, 0, 0, 176), (119, 142, 96, 255), (0, 0, 0, 240), (96, 104, 89, 255), (0, 0, 0, 255), (74, 78, 71, 255), (0, 0, 0, 32), (85, 91, 80, 255), (0, 0, 0, 96), (61, 62, 59, 255), (0, 0, 0, 160), (0, 0, 0, 224), (32, 32, 31, 255), (123, 161, 81, 255), (101, 179, 46, 255), (255, 255, 255, 0), (0, 0, 0, 16), (0, 0, 0, 80), (0, 0, 0, 144), (0, 0, 0, 208), (110, 175, 56, 255), (110, 125, 96, 255), (115, 134, 96, 255), (0, 0, 0, 64), (104, 116, 93, 255), (0, 0, 0, 128), (0, 0, 0, 192), (121, 167, 74, 255)}\n"
     ]
    }
   ],
   "source": [
    "with open('merged.svg','r') as f:\n",
    "    svg_data = f.read()\n",
    "mod_image = svg_data.replace(\"#66b32e\",\"#0000ff\")\n",
    "SVG(mod_image)"
   ]
  },
  {
   "cell_type": "code",
   "execution_count": null,
   "id": "35c940a3",
   "metadata": {},
   "outputs": [],
   "source": []
  }
 ],
 "metadata": {
  "kernelspec": {
   "display_name": "Python 3 (ipykernel)",
   "language": "python",
   "name": "python3"
  },
  "language_info": {
   "codemirror_mode": {
    "name": "ipython",
    "version": 3
   },
   "file_extension": ".py",
   "mimetype": "text/x-python",
   "name": "python",
   "nbconvert_exporter": "python",
   "pygments_lexer": "ipython3",
   "version": "3.12.3"
  }
 },
 "nbformat": 4,
 "nbformat_minor": 5
}
