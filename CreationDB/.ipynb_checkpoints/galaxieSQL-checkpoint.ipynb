{
 "cells": [
  {
   "cell_type": "markdown",
   "id": "aacb3219",
   "metadata": {},
   "source": [
    "# GalaxieSQL\n",
    "\n",
    "## Description du projet\n",
    "\n",
    "Atelier SQL parents enfants: enseigner les bases de SQL (similaire à AccioQuery mais moins de détails, on veut seulement: select,*, from, where, AND, OR, NOT, LIKE) mais aussi comment entrer un nouveau élément dans la base de données: ``INSERT INTO ... VALUES ...``. Pour cela le pitch:\n",
    "> Vous êtes des scientifiques de l'espace et vous vous intéressez aux habitants de planêtes habitées récemment découvertes. Trouvez le nom d'un extraterestre qui n'as pas encore été étudié grâce à la base de données. (on leur dira de noter le nom sur un post-it et le coller sur le poster lorsqu'elle l'auront trouvé). Quelques extraterrestres n'ont pas encore été ajoutés dans la base de données (on les notes avec des points d'interrogation), ajoutez les et assurez vous ensuite qu'ils ont bien été ajoutés à la base de données. \n",
    "\n",
    "Dans un second temps, on pourrait aussi leur proposer de générer leur propre extraterrestre (c.f. génération d'image d'alien à partir de description). Pour cette seconde partie, il faudrait avoir un moyen de lancer la fonction."
   ]
  },
  {
   "cell_type": "code",
   "execution_count": 1,
   "id": "905a2587",
   "metadata": {},
   "outputs": [
    {
     "name": "stdout",
     "output_type": "stream",
     "text": [
      "/mnt/c/Users/jmegret/Documents/codingClub/galaxiesql\n"
     ]
    }
   ],
   "source": [
    "import sqlite3 # gérer les bases de données\n",
    "import pickle # sauvegarder des structures de données python \n",
    "import csv # pour lire et modifier les fichiers csv\n",
    "import random # pour générer des nombres aléatoires\n",
    "from PIL import Image # Pour afficher et modifier les images\n",
    "from IPython.display import SVG\n",
    "from aliens import generate_alien,change_colour,draw_alien, draw_alien_svg # fonction implémentées dans aliens.py utile pour la génération d'aliens et le changement de couleur\n",
    "import os\n",
    "print(os.getcwd()) #current working directory"
   ]
  },
  {
   "cell_type": "markdown",
   "id": "98897636",
   "metadata": {},
   "source": [
    "## Génération des attributs\n",
    "On commence par définir les attributs que l'on veut pour nos aliens. On fait des listes pour certains attributs et on utilise des liste csv externe pour les noms."
   ]
  },
  {
   "cell_type": "code",
   "execution_count": 4,
   "id": "8d84c82d",
   "metadata": {},
   "outputs": [],
   "source": [
    "palette_RGB = {\"bleu\":(0,0,255), \"gris\":(100,100,100), \"noir\":(0,0,0),\"violet\":(128, 0, 255),\n",
    "           \"rouge\":(255,0,0),\"blanc\":(255,255,255),\"vert\":(0,255,0),\"arc-en-ciel\":(204, 255, 255),\"jaune\":(255,255,0),\n",
    "           \"rose\":(255, 0, 255),\"orange\":(255,150,0),\"marron\":(150,100,50)}\n",
    "palette = {\"bleu\":\"#0000ff\", \"gris\":\"#646464\", \"noir\":\"#000000\",\"violet\":\"#8000ff\",\n",
    "           \"rouge\":\"#ff0000\",\"blanc\":\"#ffffff\",\"vert\":\"#00ff00\",\"arc-en-ciel\":\"#ccffff\",\"jaune\":\"#ffff00\",\n",
    "           \"rose\":\"#ff00ff\",\"orange\":\"#ff9000\",\"marron\":\"#64503c\"}\n",
    "attributs = dict({\"nom\" : [],\n",
    "\"couleurs\" : palette,\n",
    "\"couleurs_RGB\": palette_RGB,\n",
    "\"couleurs_yeux_weights\" : [1,1,1,1,1,1,1,1,1],\n",
    "\"planète\" : [\"céplusplus\", \"scratchon\", \"pythos\"],\n",
    "\"visage\" : [\"trompe\",\"bec\",\"museau\",\"rien\",\"nez\",\"bouche\",\"corne\"],\n",
    "\"tête\" : [\"ronde\",\"ovale\",\"carrée\",\"triangulaire\",\"difforme\"],\n",
    "\"peau\" : [\"poils\",\"rien\",\"écailles\"],#,\"pics\",\"plumes\",\"carapace\"],\n",
    "\"ingrédients\" : [\"à l\\'aubergine\",\"au olives\",\"au poivrons\",\"à la mozarella\",\"à la burrata\",\"au gorgonzola\",\"au poivre\",\n",
    "                 \"au sel\",\"à l\\'huile d\\'olive\",\"à l\\'ananas\", \"au sugus\",\"à la fraise\",\"au chocolat\"]\n",
    "}) "
   ]
  },
  {
   "cell_type": "code",
   "execution_count": 5,
   "id": "5a218ea7",
   "metadata": {},
   "outputs": [
    {
     "name": "stdout",
     "output_type": "stream",
     "text": [
      "{'bleu': '#0000ff', 'gris': '#646464', 'noir': '#000000', 'violet': '#8000ff', 'rouge': '#ff0000', 'blanc': '#ffffff', 'vert': '#00ff00', 'arc-en-ciel': '#ccffff', 'jaune': '#ffff00', 'rose': '#ff00ff', 'orange': '#ff9000', 'marron': '#64503c'}\n"
     ]
    }
   ],
   "source": [
    "noms_latin=[]\n",
    "with open('noms_latin2.csv', newline='') as csvfile:\n",
    "    spamreader = csv.reader(csvfile, delimiter=',')\n",
    "    for line in spamreader:\n",
    "        noms_latin.append(line[0])\n",
    "attributs[\"nom\"] = noms_latin[1:]\n",
    "attributs[\"nom\"].extend(['BASICUS','COBOLUS','COQUS','CURLUS','FORTRUS','GONUM', 'HASKELLION', 'JAVIA',\n",
    "                        'KOTLINI','LISPUS','MATLABUM','OCAMLIUM','PASCALANS','TEX','WOLFRAM'])\n",
    "print(attributs[\"couleurs\"])"
   ]
  },
  {
   "cell_type": "code",
   "execution_count": 6,
   "id": "f1cc8c87",
   "metadata": {},
   "outputs": [],
   "source": [
    "# On sauvegarde le tout pour ré-ouvrir plus tard dans aliens.py\n",
    "with open('attributs_aliens.pkl', 'wb') as f:\n",
    "    pickle.dump(attributs, f)"
   ]
  },
  {
   "cell_type": "code",
   "execution_count": 5,
   "id": "a94ac35c",
   "metadata": {
    "scrolled": false
   },
   "outputs": [
    {
     "name": "stdout",
     "output_type": "stream",
     "text": [
      "{'nom': ['ACER', 'ACHILLEA', 'ACHNATHERUM', 'ACONITUM', 'ACTINIDIA', 'ADIANTHUM', 'AEGOPODIUM', 'AESCULUS', 'AJUGA', 'ALCHEMILLA', 'ALNUS', 'ALTHAE', 'AMORPHA', 'ANDROMEDA', 'AQUILEGIA', 'ARABIS', 'ARA\\xa0LIA', 'ARCTOSTAPHYLOS', 'ARENARIA', 'ARISAEMA', 'ARMERIA', 'ARONIA', 'ARTEMISIA', 'ARUNCUS', 'ASARUM', 'ASIMINA', 'ASTILBOIDES', 'ASTRANTIA', 'AZALEA', 'BERBERIS', 'BETULA', 'BRUNNERA', 'BUXUS', 'CALLUNA', 'CAMPANULA', 'CARAGANA', 'CAREX', 'CARPINUS', 'CARYA', 'CASSANDRA', 'CELASTRUS', 'CELTIS', 'CENTAUREA', 'CERASTIUM', 'CENTRANTHUS', 'CEPHALANTUS', 'CHAENOMELES', 'CHAMAECYPARIS', 'CHIONANTHUS', 'CHRYSANTHEMUM', 'CIMICIFUGA', 'CLEMATIS', 'CLETHRA', 'COMPTONIA', 'CONVALLARIA', 'CORNUS', 'CORYLUS', 'COTINUS', 'CRATAEGUS', 'CYTISUS', 'DELPHINIUM', 'DIANTHUS', 'DICENTRA', 'DIGITALIS', 'DIRCA', 'DIERVILLA', 'DRYOPTERIS ', 'ECHINACEA', 'ECHINOPS', 'ELEAGNUS', 'ELEUTHEROCOCCUS', 'EMPETRUM', 'EPIMEDIUM', 'ERYNGIUM', 'EUONYMUS', 'EUPATORIUM', 'EUPHORBIA', 'FAGUS', 'FALLOPIA', 'FESTUCA', 'FILIPENDULA', 'FRAGARIA', 'FRAXINUS', 'GAILLARDA', 'GAULTHERIA', 'GENISTA', 'GENTIANA', 'GEUM', 'GINGKO', 'GLEDITSIA', 'GYMNOCLADUS', 'GYSOPHILA', 'HEDERA', 'HELENIUM', 'HELIANTHUS', 'HELICTOTRICHON', 'HELIOPSIS', 'HEUCHERA', 'HEUCHERELLA', 'HIPPOPHAE', 'HUMULUS', 'HYDRANGEA', 'HYPERICUM', 'IBERIS', 'ILEX', 'JOVIBARBA', 'JUGLANS', 'JUNIPERUS', 'LAMIUM', 'LARIX', 'LAVANDULA', 'LEONTOPODIUM', 'LIATRIS', 'LIGULARIA', 'LIGUSTRUM', 'LILIUM', 'LONICERA', 'LUPINUS', 'LYCHNIS', 'LYSIMACHIA', 'LYTHRUM', 'MAHONIA', 'MALVA', 'MALUS', 'MATTEUCIA', 'MONARDA', 'MORUS', 'MYRICA', 'NEMOPANTHUS', 'NEPETA', 'OENOTHERA', 'OSMUNDA', 'OSTRYA', 'PACHYSANDRA', 'PAEONIA', 'PANICUM', 'PAPAVER', 'PARTHENOCISSUS', 'PELTIPHYLLUM', 'PEROVSKIA', 'PETASITES', 'PHYSOSTEGIA', 'PICEA', 'PINUS', 'PHILADELPHUS', 'PHYSOCARPUS', 'POLEMONIUM', 'POLYGONATUM', 'POLYSTICHUM', 'PRIMULA', 'POTENTILLA', 'PRUNUS', 'PULMONARIA', 'PYRUS', 'QUERCUS', 'RHAMUS', 'RHUS', 'RIBES', 'ROBINA', 'RODGERSIA', 'ROSA', 'RUBUS', 'RUDBECKIA', 'SALIX', 'SALVIA', 'SAMBUCUS', 'SAXIFRAGA', 'SCABIOSA', 'SEDUM', 'SHEPHERDIA', 'SORBUS', 'SORGHASTRUM', 'SPIRAEA', 'STACHYS', 'SYMPHORICARPOS', 'SYRINGA', 'TAMARIX', 'TANACETUM', 'TAXUS', 'THALICTRUM', 'THUJA', 'THYMUS', 'TIARELLA', 'TILIA', 'TRADESCANTIA', 'TRIFOLIUM', 'TRILLIUM', 'TROLLIUS', 'TSUGA', 'ULMUS', 'VACCINIUM', 'VERONICA', 'VIBURNUM', 'VINCA', 'VIOLA', 'VITIS', 'WEIGELA', 'WISTERIA', 'BASICUS', 'COBOLUS', 'COQUS', 'CURLUS', 'FORTRUS', 'GONUM', 'HASKELLION', 'JAVIA', 'KOTLINI', 'LISPUS', 'MATLABUM', 'OCAMLIUM', 'PASCALANS', 'TEX', 'WOLFRAM'], 'couleurs': {'bleu': '#0000ff', 'gris': '#646464', 'noir': '#000000', 'violet': '#8000ff', 'rouge': '#ff0000', 'blanc': '#ffffff', 'vert': '#00ff00', 'arc-en-ciel': '#ccffff', 'jaune': '#ffff00', 'rose': '#ff00ff', 'orange': '#ff9000', 'marron': '#64503c'}, 'couleurs_RGB': {'bleu': (0, 0, 255), 'gris': (100, 100, 100), 'noir': (0, 0, 0), 'violet': (128, 0, 255), 'rouge': (255, 0, 0), 'blanc': (255, 255, 255), 'vert': (0, 255, 0), 'arc-en-ciel': (204, 255, 255), 'jaune': (255, 255, 0), 'rose': (255, 0, 255), 'orange': (255, 150, 0), 'marron': (150, 100, 50)}, 'couleurs_yeux_weights': [1, 1, 1, 1, 1, 1, 1, 1, 1], 'planète': ['céplusplus', 'scratchon', 'pythos'], 'visage': ['trompe', 'bec', 'museau', 'rien', 'nez', 'bouche', 'corne'], 'tête': ['ronde', 'ovale', 'carrée', 'triangulaire', 'difforme'], 'peau': ['poils', 'rien', 'plumes', 'écailles', 'pics', 'carapace'], 'ingrédients': [\"à l'aubergine\", 'au olives', 'au poivrons', 'à la mozarella', 'à la burrata', 'au gorgonzola', 'au poivre', 'au sel', \"à l'huile d'olive\", \"à l'ananas\", 'au sugus', 'à la fraise', 'au chocolat']}\n"
     ]
    }
   ],
   "source": [
    "# Pas indispensable mais pour vérifier que l'on a bien enregistré le tout\n",
    "with open('attributs_aliens.pkl', 'rb') as f:\n",
    "    loaded_dict = pickle.load(f)\n",
    "print(loaded_dict)"
   ]
  },
  {
   "cell_type": "markdown",
   "id": "aa4a5e92",
   "metadata": {},
   "source": [
    "## Génération de la base de données \n",
    "On se connecte à la base de donnée avec un curseur par lequel on peut faire passer les commandes sur la base de données."
   ]
  },
  {
   "cell_type": "code",
   "execution_count": 2,
   "id": "56943e37",
   "metadata": {},
   "outputs": [],
   "source": [
    "connection = sqlite3.connect(\"aliens_fr.db\")\n",
    "cursor = connection.cursor()"
   ]
  },
  {
   "cell_type": "markdown",
   "id": "c1fc7239",
   "metadata": {},
   "source": [
    "On crée un tableau dans la base de données. Ceci doit seulement être fait la première fois que l'on crée le tableau."
   ]
  },
  {
   "cell_type": "code",
   "execution_count": 11,
   "id": "8ba3ff29",
   "metadata": {},
   "outputs": [
    {
     "data": {
      "text/plain": [
       "<sqlite3.Cursor at 0x7f4b3e0bb340>"
      ]
     },
     "execution_count": 11,
     "metadata": {},
     "output_type": "execute_result"
    }
   ],
   "source": [
    "cursor.execute(\n",
    "    \"CREATE TABLE extraterrestres (nom TEXT NOT NULL PRIMARY KEY, \\\n",
    "    planète TEXT, \\\n",
    "    nombre_membres INT, \\\n",
    "    taille INT, \\\n",
    "    nombre_yeux INT, couleur_yeux TEXT, \\\n",
    "    peau TEXT, couleur_peau TEXT,\\\n",
    "    antennes INT, visage TEXT, tête TEXT, \\\n",
    "    pizza TEXT)\")"
   ]
  },
  {
   "cell_type": "markdown",
   "id": "80996d64",
   "metadata": {},
   "source": [
    "On va ensuite peupler la base de données. Pour cela, on utilise la fonction ``` generate_alien() ``` définie dans le fichier alien.py. On veut que les noms des aliens soient uniques (et par extension leur attributs sont uniques) donc on ignore les doublons. "
   ]
  },
  {
   "cell_type": "code",
   "execution_count": 12,
   "id": "3d755e47",
   "metadata": {
    "scrolled": true
   },
   "outputs": [
    {
     "name": "stdout",
     "output_type": "stream",
     "text": [
      "LIGUSTRUM_0830 existe déjà\n",
      "MATLABUM_0730 existe déjà\n",
      "MATLABUM_1930 existe déjà\n",
      "OSTRYA_4310 existe déjà\n",
      "VACCINIUM_9850 existe déjà\n",
      "GONUM_8740 existe déjà\n",
      "GONUM_0920 existe déjà\n",
      "EMPETRUM_2760 existe déjà\n",
      "ARMERIA_1481 existe déjà\n",
      "MAHONIA_0180 existe déjà\n",
      "COQUS_6960 existe déjà\n",
      "ANDROMEDA_4661 existe déjà\n",
      "CENTAUREA_9880 existe déjà\n",
      "EPIMEDIUM_6171 existe déjà\n",
      "PARTHENOCISSUS_9531 existe déjà\n",
      "VINCA_0650 existe déjà\n",
      "VACCINIUM_0781 existe déjà\n",
      "CORNUS_1481 existe déjà\n",
      "TRADESCANTIA_7381 existe déjà\n",
      "HYPERICUM_0881 existe déjà\n",
      "TRIFOLIUM_2900 existe déjà\n",
      "CASSANDRA_2770 existe déjà\n",
      "MATLABUM_6761 existe déjà\n",
      "SYRINGA_5431 existe déjà\n",
      "KOTLINI_8800 existe déjà\n",
      "VIOLA_0930 existe déjà\n",
      "CORNUS_2730 existe déjà\n",
      "THALICTRUM_32100 existe déjà\n",
      "FAGUS_5591 existe déjà\n",
      "TRADESCANTIA_4690 existe déjà\n",
      "THALICTRUM_4831 existe déjà\n",
      "CIMICIFUGA_9860 existe déjà\n",
      "VINCA_9921 existe déjà\n",
      "DICENTRA_01101 existe déjà\n",
      "PETASITES_1521 existe déjà\n",
      "AQUILEGIA_1850 existe déjà\n",
      "SPIRAEA_9811 existe déjà\n",
      "CALLUNA_3920 existe déjà\n",
      "MATTEUCIA_9861 existe déjà\n",
      "DICENTRA_3701 existe déjà\n",
      "ACER_7791 existe déjà\n",
      "CARYA_7290 existe déjà\n",
      "PRUNUS_7061 existe déjà\n",
      "CHRYSANTHEMUM_6140 existe déjà\n",
      "ALNUS_0361 existe déjà\n",
      "CURLUS_9040 existe déjà\n",
      "BERBERIS_8241 existe déjà\n",
      "HIPPOPHAE_5161 existe déjà\n",
      "CAREX_1551 existe déjà\n",
      "ERYNGIUM_7691 existe déjà\n",
      "PHYSOCARPUS_3730 existe déjà\n",
      "EMPETRUM_2760 existe déjà\n",
      "ELEAGNUS_8621 existe déjà\n",
      "RIBES_6801 existe déjà\n",
      "GYSOPHILA_7161 existe déjà\n",
      "CARPINUS_2991 existe déjà\n",
      "MORUS_7200 existe déjà\n",
      "JAVIA_4151 existe déjà\n",
      "PHILADELPHUS_0570 existe déjà\n",
      "OENOTHERA_2821 existe déjà\n",
      "ASIMINA_8620 existe déjà\n",
      "FRAGARIA_6680 existe déjà\n",
      "VIOLA_6451 existe déjà\n",
      "POLYGONATUM_1411 existe déjà\n",
      "ELEAGNUS_43101 existe déjà\n",
      "ASIMINA_2851 existe déjà\n",
      "PICEA_8071 existe déjà\n",
      "CHRYSANTHEMUM_4940 existe déjà\n",
      "ACTINIDIA_2430 existe déjà\n",
      "THYMUS_3191 existe déjà\n",
      "ASIMINA_8180 existe déjà\n",
      "PARTHENOCISSUS_5321 existe déjà\n",
      "EPIMEDIUM_9591 existe déjà\n",
      "GENTIANA_2391 existe déjà\n",
      "JUNIPERUS_0430 existe déjà\n",
      "LYSIMACHIA_1871 existe déjà\n",
      "MONARDA_6081 existe déjà\n",
      "EUPATORIUM_34101 existe déjà\n",
      "JOVIBARBA_4670 existe déjà\n",
      "ARONIA_7431 existe déjà\n",
      "COBOLUS_7490 existe déjà\n",
      "GYMNOCLADUS_3571 existe déjà\n",
      "TAXUS_1731 existe déjà\n",
      "CASSANDRA_5420 existe déjà\n",
      "SYMPHORICARPOS_5761 existe déjà\n",
      "COBOLUS_7840 existe déjà\n",
      "LIGULARIA_0860 existe déjà\n",
      "PHILADELPHUS_8361 existe déjà\n",
      "MORUS_6951 existe déjà\n",
      "HEDERA_1390 existe déjà\n",
      "BRUNNERA_8661 existe déjà\n",
      "GENTIANA_4901 existe déjà\n",
      "TANACETUM_8910 existe déjà\n",
      "TRADESCANTIA_9961 existe déjà\n",
      "VIBURNUM_6420 existe déjà\n",
      "RHAMUS_0210 existe déjà\n",
      "HELICTOTRICHON_4670 existe déjà\n",
      "CHAMAECYPARIS_2280 existe déjà\n",
      "ULMUS_7761 existe déjà\n",
      "THUJA_7821 existe déjà\n",
      "VINCA_2351 existe déjà\n",
      "MORUS_8551 existe déjà\n",
      "VIOLA_88100 existe déjà\n"
     ]
    }
   ],
   "source": [
    "nAliens = 10000\n",
    "for alien in range(nAliens):\n",
    "    attribut = generate_alien()\n",
    "    try:\n",
    "        cursor.execute(f'Insert INTO extraterrestres VALUES(\"{attribut[0]}\",\\\n",
    "\"{attribut[1]}\",{attribut[2]},{attribut[3]},{attribut[4]},\\\n",
    "\"{attribut[5]}\",\"{attribut[6]}\",\"{attribut[7]}\",{attribut[8]},\\\n",
    "\"{attribut[9]}\",\"{attribut[10]}\",\"{attribut[11]}\")')\n",
    "    except:\n",
    "        print(f\"{attribut[0]} existe déjà\")"
   ]
  },
  {
   "cell_type": "markdown",
   "id": "9a81040e",
   "metadata": {},
   "source": [
    "On peut tester la base de donnée ici:"
   ]
  },
  {
   "cell_type": "code",
   "execution_count": 5,
   "id": "0fc8a6b1",
   "metadata": {},
   "outputs": [
    {
     "ename": "SyntaxError",
     "evalue": "unterminated string literal (detected at line 4) (422157443.py, line 4)",
     "output_type": "error",
     "traceback": [
      "\u001b[0;36m  Cell \u001b[0;32mIn[5], line 4\u001b[0;36m\u001b[0m\n\u001b[0;31m    print(cursor.execute(\"SELECT * from extraterrestres LIMIT 3 WHERE nom LIKE ''%_1472%'').fetchall())\u001b[0m\n\u001b[0m                         ^\u001b[0m\n\u001b[0;31mSyntaxError\u001b[0m\u001b[0;31m:\u001b[0m unterminated string literal (detected at line 4)\n"
     ]
    }
   ],
   "source": [
    "# Nom des colones\n",
    "# print(cursor.execute(\"PRAGMA table_info(extraterrestres)\").fetchall())\n",
    "print(cursor.execute(f\"SELECT * from extraterrestres LIMIT 3\").fetchall())\n",
    "print(cursor.execute(\"SELECT * from extraterrestres LIMIT 3 WHERE nom LIKE '%_1472%'\").fetchall())"
   ]
  },
  {
   "cell_type": "markdown",
   "id": "b0aba7a3",
   "metadata": {},
   "source": [
    "Enfin, il faut toujours sauvegarder les changements dans la base de données puis rompre la connection."
   ]
  },
  {
   "cell_type": "code",
   "execution_count": 14,
   "id": "7271657b",
   "metadata": {
    "scrolled": true
   },
   "outputs": [],
   "source": [
    "#sauver les changements\n",
    "connection.commit()\n",
    "#fermer la connection à la base de données\n",
    "cursor.close()\n",
    "connection.close()"
   ]
  },
  {
   "cell_type": "markdown",
   "id": "f02dea01",
   "metadata": {},
   "source": [
    "### Génération d'image d'alien à partir de description\n",
    "On essaie de générer des dessins d'aliens à partir de leur description. Pour cela on prépare différentes versions des différents aliens avec adobe illustrator. Rester dans les délimitations pour les différentes parties pour que ça match. Fichier->Exporter->Exporter sous-> cocher utiliser les plans de travail, Exporter en png. Puis on les combines. On peut donc créer un alien pour chaque entrée dans la base de données. Cela pourrait également être une autre partie dans l'atelier: créer son propre alien (plus en lien avec le design mais ça pourrait être amusant quand même).\n",
    "\n",
    "La génération d'aliens est implémentée dans le document ```aliens.py``` et il y a un liste d'attributs à modifier."
   ]
  },
  {
   "cell_type": "code",
   "execution_count": 15,
   "id": "8e86defc",
   "metadata": {},
   "outputs": [],
   "source": [
    "# with open('merged.svg','r') as f:\n",
    "#     svg_data = f.read()\n",
    "# mod_image = svg_data.replace(\"#66b32e\",\"#0000ff\")\n",
    "# SVG(mod_image)\n",
    "for i in range(20):\n",
    "    draw_alien_svg(filename = f\"alien{i}.svg\", save=True, peau=[\"écailles\",\"poils\",\"rien\"][i%3])"
   ]
  },
  {
   "cell_type": "markdown",
   "id": "8f5019c1",
   "metadata": {},
   "source": [
    "Faire une fonction ou on peut mettre les attributs pour générer les aliens. \n",
    "Afficher alien avec nom CORVUS_42 (va chercher attributs de corvus 42 et affiche).\n",
    "Sauvegarder quelques images.\n",
    "\n",
    "Important de savoir comment nommer les aliens"
   ]
  },
  {
   "cell_type": "code",
   "execution_count": 9,
   "id": "a5d23ee9",
   "metadata": {},
   "outputs": [
    {
     "name": "stdout",
     "output_type": "stream",
     "text": [
      "{(116, 171, 65, 255), (122, 149, 92, 255), (0, 0, 0, 48), (0, 0, 0, 112), (124, 156, 88, 255), (0, 0, 0, 176), (119, 142, 96, 255), (0, 0, 0, 240), (96, 104, 89, 255), (0, 0, 0, 255), (74, 78, 71, 255), (0, 0, 0, 32), (85, 91, 80, 255), (0, 0, 0, 96), (61, 62, 59, 255), (0, 0, 0, 160), (0, 0, 0, 224), (32, 32, 31, 255), (123, 161, 81, 255), (101, 179, 46, 255), (255, 255, 255, 0), (0, 0, 0, 16), (0, 0, 0, 80), (0, 0, 0, 144), (0, 0, 0, 208), (110, 175, 56, 255), (110, 125, 96, 255), (115, 134, 96, 255), (0, 0, 0, 64), (104, 116, 93, 255), (0, 0, 0, 128), (0, 0, 0, 192), (121, 167, 74, 255)}\n"
     ]
    }
   ],
   "source": [
    "with open('merged.svg','r') as f:\n",
    "    svg_data = f.read()\n",
    "mod_image = svg_data.replace(\"#66b32e\",\"#0000ff\")\n",
    "SVG(mod_image)"
   ]
  },
  {
   "cell_type": "code",
   "execution_count": null,
   "id": "35c940a3",
   "metadata": {},
   "outputs": [],
   "source": []
  }
 ],
 "metadata": {
  "kernelspec": {
   "display_name": "atelierSQL",
   "language": "python",
   "name": "ateliersql"
  },
  "language_info": {
   "codemirror_mode": {
    "name": "ipython",
    "version": 3
   },
   "file_extension": ".py",
   "mimetype": "text/x-python",
   "name": "python",
   "nbconvert_exporter": "python",
   "pygments_lexer": "ipython3",
   "version": "3.11.5"
  }
 },
 "nbformat": 4,
 "nbformat_minor": 5
}
