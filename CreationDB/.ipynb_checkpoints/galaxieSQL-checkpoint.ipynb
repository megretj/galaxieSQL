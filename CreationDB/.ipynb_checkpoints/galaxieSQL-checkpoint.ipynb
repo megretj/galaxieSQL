{
 "cells": [
  {
   "cell_type": "markdown",
   "id": "aacb3219",
   "metadata": {},
   "source": [
    "# GalaxieSQL\n",
    "\n",
    "## Description du projet\n",
    "\n",
    "Atelier SQL parents enfants: enseigner les bases de SQL (similaire à AccioQuery mais moins de détails, on veut seulement: select,*, from, where, AND, OR, NOT, LIKE) mais aussi comment entrer un nouveau élément dans la base de données: ``INSERT INTO ... VALUES ...``. Pour cela le pitch:\n",
    "> Vous êtes des scientifiques de l'espace et vous vous intéressez aux habitants de planêtes habitées récemment découvertes. Trouvez le nom d'un extraterestre qui n'as pas encore été étudié grâce à la base de données. (on leur dira de noter le nom sur un post-it et le coller sur le poster lorsqu'elle l'auront trouvé). Quelques extraterrestres n'ont pas encore été ajoutés dans la base de données (on les notes avec des points d'interrogation), ajoutez les et assurez vous ensuite qu'ils ont bien été ajoutés à la base de données. \n",
    "\n",
    "Dans un second temps, on pourrait aussi leur proposer de générer leur propre extraterrestre (c.f. génération d'image d'alien à partir de description). Pour cette seconde partie, il faudrait avoir un moyen de lancer la fonction."
   ]
  },
  {
   "cell_type": "code",
   "execution_count": 1,
   "id": "905a2587",
   "metadata": {},
   "outputs": [
    {
     "name": "stdout",
     "output_type": "stream",
     "text": [
      "/mnt/c/Users/jmegret/Documents/codingClub/galaxiesql/CreationDB\n"
     ]
    }
   ],
   "source": [
    "import sqlite3 # gérer les bases de données\n",
    "import pickle # sauvegarder des structures de données python \n",
    "import csv # pour lire et modifier les fichiers csv\n",
    "import random # pour générer des nombres aléatoires\n",
    "from PIL import Image # Pour afficher et modifier les images\n",
    "from IPython.display import SVG\n",
    "from aliens import generate_alien,change_colour,draw_alien, draw_alien_svg # fonction implémentées dans aliens.py utile pour la génération d'aliens et le changement de couleur\n",
    "import os\n",
    "print(os.getcwd()) #current working directory"
   ]
  },
  {
   "cell_type": "markdown",
   "id": "98897636",
   "metadata": {},
   "source": [
    "## Génération des attributs\n",
    "On commence par définir les attributs que l'on veut pour nos aliens. On fait des listes pour certains attributs et on utilise des liste csv externe pour les noms."
   ]
  },
  {
   "cell_type": "code",
   "execution_count": 7,
   "id": "8d84c82d",
   "metadata": {},
   "outputs": [],
   "source": [
    "palette_RGB = {\"bleu\":(0,0,255), \"gris\":(100,100,100), \"noir\":(0,0,0),\"violet\":(128, 0, 255),\n",
    "           \"rouge\":(255,0,0),\"blanc\":(255,255,255),\"vert\":(0,255,0),\"jaune\":(255,255,0),\n",
    "           \"rose\":(255, 0, 255),\"orange\":(255,150,0),\"marron\":(150,100,50)}\n",
    "palette = {\"bleu\":\"#0000ff\", \"gris\":\"#646464\", \"noir\":\"#000000\",\"violet\":\"#8000ff\",\n",
    "           \"rouge\":\"#ff0000\",\"blanc\":\"#ffffff\",\"vert\":\"#00ff00\",\"jaune\":\"#ffff00\",\n",
    "           \"rose\":\"#ff00ff\",\"orange\":\"#ff9000\",\"marron\":\"#64503c\"}\n",
    "palette_RGB_de = {\"blau\":(0,0,255), \"grau\":(100,100,100), \"schwarz\":(0,0,0),\"violett\":(128, 0, 255),\n",
    "           \"rot\":(255,0,0),\"weiss\":(255,255,255),\"grün\":(0,255,0),\"gelb\":(255,255,0),\n",
    "           \"rosa\":(255, 0, 255),\"orange\":(255,150,0),\"braun\":(150,100,50)}\n",
    "palette_de = {\"blau\":\"#0000ff\", \"grau\":\"#646464\", \"schwarz\":\"#000000\",\"violett\":\"#8000ff\",\n",
    "           \"rot\":\"#ff0000\",\"weiss\":\"#ffffff\",\"grün\":\"#00ff00\",\"gelb\":\"#ffff00\",\n",
    "           \"rosa\":\"#ff00ff\",\"orange\":\"#ff9000\",\"braun\":\"#64503c\"}\n",
    "attributs = dict({\"nom\" : [],\n",
    "\"couleurs\" : palette,\n",
    "\"couleurs_RGB\": palette_RGB,\n",
    "\"farben\" : palette_de,\n",
    "\"farben_RGB\": palette_RGB_de,\n",
    "\"planète\" : [\"céplusplus\", \"scratchon\", \"pythos\"],\n",
    "\"visage\" : [\"trompe\",\"bec\",\"museau\",\"rien\",\"nez\",\"bouche\",\"corne\"],\n",
    "\"Gesicht\" : [\"Rüssel\",\"Schnabel\", \"Schnauze\",\"nichts\",\"Nase\",\"Mund\",\"Horn\"],\n",
    "\"tête\" : [\"ronde\",\"ovale\",\"carrée\",\"triangulaire\",\"difforme\"],\n",
    "\"Kopf\" : [\"rund\",\"oval\",\"rechteckig\",\"dreieckig\",\"unförmig\"],\n",
    "\"peau\" : [\"poils\",\"rien\",\"écailles\",\"épines\",\"plumes\",\"carapace\"],\n",
    "\"Haut\" : [\"Haare\", \"nichts\", \"Schuppen\", \"Stachel\", \"Federn\", \"Panzer\"],\n",
    "\"ingrédients\" : [\"à l\\'aubergine\",\"au olives\",\"au poivrons\",\"à la mozarella\",\"à la burrata\",\"au gorgonzola\",\"Gruyère\",\"au poivre\",\n",
    "                 \"au sel\",\"à l\\'huile d\\'olive\",\"à l\\'ananas\", \"au sugus\",\"à la fraise\",\"au chocolat\"],\n",
    "\"Zutaten\" : [\"Aubergine\", \"Oliven\", \"Paprika\", \"Mozarella\", \"Burrata\", \"Gorgonzola\", \"Gruyère\", \"Pfeffer\",\n",
    "            \"Saltz\", \"Olivenöl\", \"Ananas\", \"Sugus\", \"Erdbeeren\", \"Schokolade\"]\n",
    "}) "
   ]
  },
  {
   "cell_type": "code",
   "execution_count": 8,
   "id": "5a218ea7",
   "metadata": {},
   "outputs": [
    {
     "name": "stdout",
     "output_type": "stream",
     "text": [
      "{'bleu': '#0000ff', 'gris': '#646464', 'noir': '#000000', 'violet': '#8000ff', 'rouge': '#ff0000', 'blanc': '#ffffff', 'vert': '#00ff00', 'jaune': '#ffff00', 'rose': '#ff00ff', 'orange': '#ff9000', 'marron': '#64503c'}\n"
     ]
    }
   ],
   "source": [
    "noms_latin=[]\n",
    "with open('noms_latin2.csv', newline='') as csvfile:\n",
    "    spamreader = csv.reader(csvfile, delimiter=',')\n",
    "    for line in spamreader:\n",
    "        noms_latin.append(line[0])\n",
    "attributs[\"nom\"] = noms_latin[1:]\n",
    "attributs[\"nom\"].extend(['BASICUS','COBOLUS','COQUS','CURLUS','FORTRUS','GONUM', 'HASKELLION', 'JAVIA',\n",
    "                        'KOTLINI','LISPUS','MATLABUM','OCAMLIUM','PASCALANS','TEX','WOLFRAM'])\n",
    "print(attributs[\"couleurs\"])"
   ]
  },
  {
   "cell_type": "code",
   "execution_count": 9,
   "id": "f1cc8c87",
   "metadata": {},
   "outputs": [],
   "source": [
    "# On sauvegarde le tout pour ré-ouvrir plus tard dans aliens.py\n",
    "with open('attributs_aliens.pkl', 'wb') as f:\n",
    "    pickle.dump(attributs, f)"
   ]
  },
  {
   "cell_type": "code",
   "execution_count": 10,
   "id": "a94ac35c",
   "metadata": {
    "scrolled": false
   },
   "outputs": [
    {
     "name": "stdout",
     "output_type": "stream",
     "text": [
      "{'nom': ['ACER', 'ACHILLEA', 'ACHNATHERUM', 'ACONITUM', 'ACTINIDIA', 'ADIANTHUM', 'AEGOPODIUM', 'AESCULUS', 'AJUGA', 'ALCHEMILLA', 'ALNUS', 'ALTHAE', 'AMORPHA', 'ANDROMEDA', 'AQUILEGIA', 'ARABIS', 'ARA\\xa0LIA', 'ARCTOSTAPHYLOS', 'ARENARIA', 'ARISAEMA', 'ARMERIA', 'ARONIA', 'ARTEMISIA', 'ARUNCUS', 'ASARUM', 'ASIMINA', 'ASTILBOIDES', 'ASTRANTIA', 'AZALEA', 'BERBERIS', 'BETULA', 'BRUNNERA', 'BUXUS', 'CALLUNA', 'CAMPANULA', 'CARAGANA', 'CAREX', 'CARPINUS', 'CARYA', 'CASSANDRA', 'CELASTRUS', 'CELTIS', 'CENTAUREA', 'CERASTIUM', 'CENTRANTHUS', 'CEPHALANTUS', 'CHAENOMELES', 'CHAMAECYPARIS', 'CHIONANTHUS', 'CHRYSANTHEMUM', 'CIMICIFUGA', 'CLEMATIS', 'CLETHRA', 'COMPTONIA', 'CONVALLARIA', 'CORNUS', 'CORYLUS', 'COTINUS', 'CRATAEGUS', 'CYTISUS', 'DELPHINIUM', 'DIANTHUS', 'DICENTRA', 'DIGITALIS', 'DIRCA', 'DIERVILLA', 'DRYOPTERIS ', 'ECHINACEA', 'ECHINOPS', 'ELEAGNUS', 'ELEUTHEROCOCCUS', 'EMPETRUM', 'EPIMEDIUM', 'ERYNGIUM', 'EUONYMUS', 'EUPATORIUM', 'EUPHORBIA', 'FAGUS', 'FALLOPIA', 'FESTUCA', 'FILIPENDULA', 'FRAGARIA', 'FRAXINUS', 'GAILLARDA', 'GAULTHERIA', 'GENISTA', 'GENTIANA', 'GEUM', 'GINGKO', 'GLEDITSIA', 'GYMNOCLADUS', 'GYSOPHILA', 'HEDERA', 'HELENIUM', 'HELIANTHUS', 'HELICTOTRICHON', 'HELIOPSIS', 'HEUCHERA', 'HEUCHERELLA', 'HIPPOPHAE', 'HUMULUS', 'HYDRANGEA', 'HYPERICUM', 'IBERIS', 'ILEX', 'JOVIBARBA', 'JUGLANS', 'JUNIPERUS', 'LAMIUM', 'LARIX', 'LAVANDULA', 'LEONTOPODIUM', 'LIATRIS', 'LIGULARIA', 'LIGUSTRUM', 'LILIUM', 'LONICERA', 'LUPINUS', 'LYCHNIS', 'LYSIMACHIA', 'LYTHRUM', 'MAHONIA', 'MALVA', 'MALUS', 'MATTEUCIA', 'MONARDA', 'MORUS', 'MYRICA', 'NEMOPANTHUS', 'NEPETA', 'OENOTHERA', 'OSMUNDA', 'OSTRYA', 'PACHYSANDRA', 'PAEONIA', 'PANICUM', 'PAPAVER', 'PARTHENOCISSUS', 'PELTIPHYLLUM', 'PEROVSKIA', 'PETASITES', 'PHYSOSTEGIA', 'PICEA', 'PINUS', 'PHILADELPHUS', 'PHYSOCARPUS', 'POLEMONIUM', 'POLYGONATUM', 'POLYSTICHUM', 'PRIMULA', 'POTENTILLA', 'PRUNUS', 'PULMONARIA', 'PYRUS', 'QUERCUS', 'RHAMUS', 'RHUS', 'RIBES', 'ROBINA', 'RODGERSIA', 'ROSA', 'RUBUS', 'RUDBECKIA', 'SALIX', 'SALVIA', 'SAMBUCUS', 'SAXIFRAGA', 'SCABIOSA', 'SEDUM', 'SHEPHERDIA', 'SORBUS', 'SORGHASTRUM', 'SPIRAEA', 'STACHYS', 'SYMPHORICARPOS', 'SYRINGA', 'TAMARIX', 'TANACETUM', 'TAXUS', 'THALICTRUM', 'THUJA', 'THYMUS', 'TIARELLA', 'TILIA', 'TRADESCANTIA', 'TRIFOLIUM', 'TRILLIUM', 'TROLLIUS', 'TSUGA', 'ULMUS', 'VACCINIUM', 'VERONICA', 'VIBURNUM', 'VINCA', 'VIOLA', 'VITIS', 'WEIGELA', 'WISTERIA', 'BASICUS', 'COBOLUS', 'COQUS', 'CURLUS', 'FORTRUS', 'GONUM', 'HASKELLION', 'JAVIA', 'KOTLINI', 'LISPUS', 'MATLABUM', 'OCAMLIUM', 'PASCALANS', 'TEX', 'WOLFRAM'], 'couleurs': {'bleu': '#0000ff', 'gris': '#646464', 'noir': '#000000', 'violet': '#8000ff', 'rouge': '#ff0000', 'blanc': '#ffffff', 'vert': '#00ff00', 'jaune': '#ffff00', 'rose': '#ff00ff', 'orange': '#ff9000', 'marron': '#64503c'}, 'couleurs_RGB': {'bleu': (0, 0, 255), 'gris': (100, 100, 100), 'noir': (0, 0, 0), 'violet': (128, 0, 255), 'rouge': (255, 0, 0), 'blanc': (255, 255, 255), 'vert': (0, 255, 0), 'jaune': (255, 255, 0), 'rose': (255, 0, 255), 'orange': (255, 150, 0), 'marron': (150, 100, 50)}, 'farben': {'blau': '#0000ff', 'grau': '#646464', 'schwarz': '#000000', 'violett': '#8000ff', 'rot': '#ff0000', 'weiss': '#ffffff', 'grün': '#00ff00', 'gelb': '#ffff00', 'rosa': '#ff00ff', 'orange': '#ff9000', 'braun': '#64503c'}, 'farben_RGB': {'blau': (0, 0, 255), 'grau': (100, 100, 100), 'schwarz': (0, 0, 0), 'violett': (128, 0, 255), 'rot': (255, 0, 0), 'weiss': (255, 255, 255), 'grün': (0, 255, 0), 'gelb': (255, 255, 0), 'rosa': (255, 0, 255), 'orange': (255, 150, 0), 'braun': (150, 100, 50)}, 'planète': ['céplusplus', 'scratchon', 'pythos'], 'visage': ['trompe', 'bec', 'museau', 'rien', 'nez', 'bouche', 'corne'], 'Gesicht': ['Rüssel', 'Schnabel', 'Schnauze', 'nichts', 'Nase', 'Mund', 'Horn'], 'tête': ['ronde', 'ovale', 'carrée', 'triangulaire', 'difforme'], 'Kopf': ['rund', 'oval', 'rechteckig', 'dreieckig', 'unförmig'], 'peau': ['poils', 'rien', 'écailles', 'épines', 'plumes', 'carapace'], 'Haut': ['Haare', 'nichts', 'Schuppen', 'Stachel', 'Federn', 'Panzer'], 'ingrédients': [\"à l'aubergine\", 'au olives', 'au poivrons', 'à la mozarella', 'à la burrata', 'au gorgonzola', 'Gruyère', 'au poivre', 'au sel', \"à l'huile d'olive\", \"à l'ananas\", 'au sugus', 'à la fraise', 'au chocolat'], 'Zutaten': ['Aubergine', 'Oliven', 'Paprika', 'Mozarella', 'Burrata', 'Gorgonzola', 'Gruyère', 'Pfeffer', 'Saltz', 'Olivenöl', 'Ananas', 'Sugus', 'Erdbeeren', 'Schokolade']}\n"
     ]
    }
   ],
   "source": [
    "# Pas indispensable mais pour vérifier que l'on a bien enregistré le tout\n",
    "with open('attributs_aliens.pkl', 'rb') as f:\n",
    "    loaded_dict = pickle.load(f)\n",
    "print(loaded_dict)"
   ]
  },
  {
   "cell_type": "markdown",
   "id": "aa4a5e92",
   "metadata": {},
   "source": [
    "## Génération de la base de données \n",
    "On se connecte à la base de donnée avec un curseur par lequel on peut faire passer les commandes sur la base de données."
   ]
  },
  {
   "cell_type": "code",
   "execution_count": 2,
   "id": "56943e37",
   "metadata": {},
   "outputs": [],
   "source": [
    "connection = sqlite3.connect(\"aliens_fr.db\")\n",
    "connection_de = sqlite3.connect(\"alien_de.db\")\n",
    "cursor = connection.cursor()\n",
    "cursor_de = connection_de.cursor()"
   ]
  },
  {
   "cell_type": "markdown",
   "id": "c1fc7239",
   "metadata": {},
   "source": [
    "On crée un tableau dans la base de données. Ceci doit seulement être fait la première fois que l'on crée le tableau."
   ]
  },
  {
   "cell_type": "code",
   "execution_count": 3,
   "id": "8ba3ff29",
   "metadata": {},
   "outputs": [
    {
     "data": {
      "text/plain": [
       "<sqlite3.Cursor at 0x7f809a450340>"
      ]
     },
     "execution_count": 3,
     "metadata": {},
     "output_type": "execute_result"
    }
   ],
   "source": [
    "cursor.execute(\n",
    "    \"CREATE TABLE extraterrestres (nom TEXT NOT NULL PRIMARY KEY, \\\n",
    "    planète TEXT, \\\n",
    "    nombre_membres INT, \\\n",
    "    taille INT, \\\n",
    "    nombre_yeux INT, couleur_yeux TEXT, \\\n",
    "    peau TEXT, couleur_peau TEXT,\\\n",
    "    antennes INT, visage TEXT, tête TEXT, \\\n",
    "    pizza TEXT)\")\n",
    "cursor_de.execute(\n",
    "    \"CREATE TABLE Ausserirdische (Name TEXT NOT NULL PRIMARY KEY, \\\n",
    "    Planet TEXT, \\\n",
    "    Anzahl_Koerperglieder INT, \\\n",
    "    Groesse INT, \\\n",
    "    anzahl_Augen INT, farbe_Augen TEXT, \\\n",
    "    Haut TEXT, farbe_Haut TEXT,\\\n",
    "    Antennen INT, Gesicht TEXT, Kopf TEXT, \\\n",
    "    Pizza TEXT)\")"
   ]
  },
  {
   "cell_type": "markdown",
   "id": "80996d64",
   "metadata": {},
   "source": [
    "On va ensuite peupler la base de données. Pour cela, on utilise la fonction ``` generate_alien() ``` définie dans le fichier alien.py. On veut que les noms des aliens soient uniques (et par extension leur attributs sont uniques) donc on ignore les doublons. "
   ]
  },
  {
   "cell_type": "code",
   "execution_count": 5,
   "id": "3d755e47",
   "metadata": {
    "scrolled": true
   },
   "outputs": [
    {
     "name": "stdout",
     "output_type": "stream",
     "text": [
      "LYTHRUM_1420 existe déjà\n",
      "PHYSOCARPUS_4030 existe déjà\n",
      "POLYGONATUM_1560 existe déjà\n",
      "VINCA_7640 existe déjà\n",
      "FALLOPIA_5470 existe déjà\n",
      "JUNIPERUS_0790 existe déjà\n",
      "ARONIA_9020 existe déjà\n",
      "FRAGARIA_8490 existe déjà\n",
      "ALNUS_3920 existe déjà\n",
      "PAEONIA_5930 existe déjà\n",
      "QUERCUS_3270 existe déjà\n",
      "ARUNCUS_5770 existe déjà\n",
      "TAXUS_8470 existe déjà\n",
      "LIATRIS_8190 existe déjà\n",
      "CELTIS_7320 existe déjà\n",
      "HELICTOTRICHON_6230 existe déjà\n",
      "ARABIS_5010 existe déjà\n",
      "CIMICIFUGA_9280 existe déjà\n",
      "SEDUM_3730 existe déjà\n",
      "PHYSOCARPUS_5900 existe déjà\n",
      "LUPINUS_6440 existe déjà\n",
      "JOVIBARBA_7510 existe déjà\n",
      "FESTUCA_0400 existe déjà\n",
      "PICEA_4810 existe déjà\n",
      "LEONTOPODIUM_6130 existe déjà\n",
      "SALIX_2730 existe déjà\n",
      "RODGERSIA_8480 existe déjà\n",
      "PAEONIA_1050 existe déjà\n",
      "SAXIFRAGA_8270 existe déjà\n",
      "IBERIS_4500 existe déjà\n",
      "LUPINUS_1210 existe déjà\n",
      "PHYSOCARPUS_4840 existe déjà\n",
      "ULMUS_3260 existe déjà\n",
      "COQUS_0090 existe déjà\n",
      "JUGLANS_2600 existe déjà\n",
      "SPIRAEA_1980 existe déjà\n",
      "WISTERIA_8530 existe déjà\n",
      "CENTAUREA_9760 existe déjà\n",
      "HELIANTHUS_8580 existe déjà\n",
      "ELEUTHEROCOCCUS_2450 existe déjà\n",
      "PARTHENOCISSUS_7900 existe déjà\n",
      "CURLUS_0240 existe déjà\n",
      "HELIANTHUS_9440 existe déjà\n",
      "CARAGANA_5400 existe déjà\n",
      "IBERIS_3670 existe déjà\n",
      "SALIX_1420 existe déjà\n",
      "ARCTOSTAPHYLOS_1980 existe déjà\n",
      "ARMERIA_9460 existe déjà\n",
      "EPIMEDIUM_8520 existe déjà\n",
      "ARCTOSTAPHYLOS_0550 existe déjà\n",
      "LONICERA_2550 existe déjà\n",
      "PACHYSANDRA_1970 existe déjà\n",
      "PACHYSANDRA_0180 existe déjà\n",
      "LAMIUM_5640 existe déjà\n",
      "MATTEUCIA_7230 existe déjà\n",
      "CORNUS_8420 existe déjà\n",
      "THYMUS_8390 existe déjà\n",
      "HELENIUM_8530 existe déjà\n",
      "LISPUS_5880 existe déjà\n",
      "ALTHAE_5890 existe déjà\n",
      "LYTHRUM_2710 existe déjà\n",
      "ILEX_3910 existe déjà\n",
      "DRYOPTERIS _6530 existe déjà\n",
      "DELPHINIUM_9400 existe déjà\n",
      "ALTHAE_6360 existe déjà\n",
      "LARIX_4870 existe déjà\n",
      "FORTRUS_6440 existe déjà\n",
      "VIOLA_7370 existe déjà\n",
      "GAULTHERIA_5110 existe déjà\n",
      "TILIA_9570 existe déjà\n",
      "EMPETRUM_4160 existe déjà\n",
      "ACER_3760 existe déjà\n",
      "PACHYSANDRA_9740 existe déjà\n",
      "ASTRANTIA_1530 existe déjà\n",
      "PETASITES_5680 existe déjà\n",
      "TILIA_0220 existe déjà\n",
      "DIGITALIS_6900 existe déjà\n",
      "CURLUS_9550 existe déjà\n",
      "NEPETA_3530 existe déjà\n",
      "ROBINA_1650 existe déjà\n",
      "CHAENOMELES_1280 existe déjà\n",
      "HASKELLION_9310 existe déjà\n",
      "ROBINA_9910 existe déjà\n",
      "VERONICA_3870 existe déjà\n",
      "BRUNNERA_9250 existe déjà\n",
      "GONUM_2520 existe déjà\n",
      "ASTRANTIA_0170 existe déjà\n",
      "HEUCHERA_9690 existe déjà\n",
      "RUDBECKIA_3550 existe déjà\n",
      "NEMOPANTHUS_0570 existe déjà\n",
      "SPIRAEA_2430 existe déjà\n",
      "CRATAEGUS_1120 existe déjà\n",
      "AEGOPODIUM_7730 existe déjà\n",
      "SYMPHORICARPOS_5230 existe déjà\n",
      "MORUS_8790 existe déjà\n",
      "TAXUS_1150 existe déjà\n",
      "GAULTHERIA_9100 existe déjà\n",
      "PRUNUS_4200 existe déjà\n",
      "PACHYSANDRA_1930 existe déjà\n",
      "CELASTRUS_8060 existe déjà\n",
      "ASTILBOIDES_3190 existe déjà\n",
      "COTINUS_5930 existe déjà\n",
      "EUPATORIUM_5700 existe déjà\n",
      "GINGKO_0740 existe déjà\n",
      "COMPTONIA_1590 existe déjà\n",
      "HELIOPSIS_8210 existe déjà\n",
      "ARUNCUS_4890 existe déjà\n",
      "CHRYSANTHEMUM_2690 existe déjà\n",
      "DIANTHUS_2730 existe déjà\n",
      "VITIS_9010 existe déjà\n",
      "ECHINACEA_9780 existe déjà\n",
      "TROLLIUS_7200 existe déjà\n",
      "POLYSTICHUM_9650 existe déjà\n",
      "CYTISUS_5410 existe déjà\n",
      "MORUS_5570 existe déjà\n",
      "MORUS_2990 existe déjà\n",
      "ANDROMEDA_0530 existe déjà\n",
      "ACONITUM_6970 existe déjà\n",
      "AZALEA_0300 existe déjà\n",
      "PHILADELPHUS_3720 existe déjà\n",
      "PAPAVER_5520 existe déjà\n",
      "CENTAUREA_9030 existe déjà\n",
      "ARABIS_0810 existe déjà\n",
      "ARA LIA_7980 existe déjà\n",
      "ACTINIDIA_9760 existe déjà\n",
      "LYCHNIS_4270 existe déjà\n",
      "RIBES_1310 existe déjà\n",
      "JAVIA_7790 existe déjà\n",
      "QUERCUS_5590 existe déjà\n",
      "PRUNUS_1480 existe déjà\n",
      "HASKELLION_1700 existe déjà\n",
      "ARABIS_4450 existe déjà\n",
      "BASICUS_6410 existe déjà\n",
      "VIOLA_7540 existe déjà\n",
      "COMPTONIA_4410 existe déjà\n",
      "ALTHAE_5910 existe déjà\n",
      "POLYGONATUM_8480 existe déjà\n",
      "TAMARIX_0200 existe déjà\n",
      "ARUNCUS_8300 existe déjà\n",
      "TAMARIX_9360 existe déjà\n",
      "LUPINUS_4890 existe déjà\n",
      "GENTIANA_0080 existe déjà\n",
      "FILIPENDULA_6410 existe déjà\n",
      "GENTIANA_9730 existe déjà\n",
      "AEGOPODIUM_4060 existe déjà\n",
      "CARYA_0800 existe déjà\n",
      "PULMONARIA_9000 existe déjà\n",
      "CLEMATIS_8510 existe déjà\n",
      "DRYOPTERIS _4870 existe déjà\n",
      "ARABIS_8670 existe déjà\n",
      "FESTUCA_3130 existe déjà\n",
      "OENOTHERA_2670 existe déjà\n",
      "CERASTIUM_9230 existe déjà\n",
      "CARAGANA_8950 existe déjà\n",
      "HELIOPSIS_6650 existe déjà\n",
      "ARUNCUS_4150 existe déjà\n",
      "MONARDA_8970 existe déjà\n",
      "PRIMULA_4960 existe déjà\n",
      "LISPUS_7530 existe déjà\n",
      "ELEAGNUS_3170 existe déjà\n",
      "PICEA_6520 existe déjà\n",
      "LAMIUM_5640 existe déjà\n",
      "VINCA_3560 existe déjà\n",
      "DIERVILLA_2900 existe déjà\n",
      "ELEAGNUS_5760 existe déjà\n",
      "HYPERICUM_7450 existe déjà\n",
      "PICEA_3030 existe déjà\n",
      "OCAMLIUM_2070 existe déjà\n",
      "VIOLA_7370 existe déjà\n",
      "ULMUS_2400 existe déjà\n",
      "ROBINA_2750 existe déjà\n",
      "SALVIA_6660 existe déjà\n",
      "ACTINIDIA_0880 existe déjà\n",
      "GEUM_6350 existe déjà\n",
      "ECHINOPS_7350 existe déjà\n",
      "CALLUNA_4130 existe déjà\n",
      "KOTLINI_1980 existe déjà\n",
      "PACHYSANDRA_2370 existe déjà\n",
      "COQUS_7810 existe déjà\n",
      "RUDBECKIA_2770 existe déjà\n",
      "HELENIUM_0190 existe déjà\n",
      "ULMUS_5570 existe déjà\n",
      "MATTEUCIA_5270 existe déjà\n",
      "DIERVILLA_2560 existe déjà\n",
      "JOVIBARBA_7970 existe déjà\n",
      "HASKELLION_9440 existe déjà\n",
      "CLETHRA_2510 existe déjà\n",
      "TRILLIUM_9550 existe déjà\n",
      "PICEA_0200 existe déjà\n",
      "LILIUM_4160 existe déjà\n",
      "SALVIA_5720 existe déjà\n",
      "DIANTHUS_7410 existe déjà\n",
      "SORBUS_3390 existe déjà\n",
      "ILEX_5970 existe déjà\n",
      "PETASITES_3760 existe déjà\n",
      "HEUCHERA_7510 existe déjà\n",
      "LAMIUM_1510 existe déjà\n",
      "PYRUS_5970 existe déjà\n",
      "VACCINIUM_1160 existe déjà\n",
      "AZALEA_0800 existe déjà\n",
      "SAMBUCUS_5790 existe déjà\n",
      "POTENTILLA_6300 existe déjà\n",
      "MATLABUM_5030 existe déjà\n",
      "CELTIS_5620 existe déjà\n",
      "HYDRANGEA_1160 existe déjà\n",
      "HELIOPSIS_6150 existe déjà\n",
      "PINUS_3190 existe déjà\n",
      "ARUNCUS_6540 existe déjà\n",
      "ASARUM_0900 existe déjà\n",
      "ARENARIA_2700 existe déjà\n",
      "ARONIA_0700 existe déjà\n",
      "HEDERA_0980 existe déjà\n",
      "AESCULUS_1050 existe déjà\n",
      "ACONITUM_5250 existe déjà\n",
      "HEUCHERELLA_8660 existe déjà\n",
      "GENTIANA_0970 existe déjà\n",
      "LYCHNIS_8990 existe déjà\n",
      "OCAMLIUM_6590 existe déjà\n",
      "ALTHAE_6360 existe déjà\n",
      "LISPUS_7350 existe déjà\n",
      "SYRINGA_6740 existe déjà\n",
      "ASIMINA_8240 existe déjà\n",
      "RHAMUS_2860 existe déjà\n"
     ]
    }
   ],
   "source": [
    "nAliens = 9000\n",
    "for alien in range(nAliens):\n",
    "    attributs_fr, attributs_de = generate_alien()\n",
    "    try:\n",
    "        cursor.execute(f'Insert INTO extraterrestres VALUES(\"{attributs_fr[0]}\",\\\n",
    "\"{attributs_fr[1]}\",{attributs_fr[2]},{attributs_fr[3]},{attributs_fr[4]},\\\n",
    "\"{attributs_fr[5]}\",\"{attributs_fr[6]}\",\"{attributs_fr[7]}\",{attributs_fr[8]},\\\n",
    "\"{attributs_fr[9]}\",\"{attributs_fr[10]}\",\"{attributs_fr[11]}\")')\n",
    "        cursor_de.execute(f'Insert INTO Ausserirdische VALUES(\"{attributs_de[0]}\",\\\n",
    "\"{attributs_de[1]}\",{attributs_de[2]},{attributs_de[3]},{attributs_de[4]},\\\n",
    "\"{attributs_de[5]}\",\"{attributs_de[6]}\",\"{attributs_de[7]}\",{attributs_de[8]},\\\n",
    "\"{attributs_de[9]}\",\"{attributs_de[10]}\",\"{attributs_de[11]}\")')\n",
    "    except:\n",
    "        #print(f\"{attributs_fr[0]} existe déjà\")\n",
    "        continue"
   ]
  },
  {
   "cell_type": "markdown",
   "id": "9a81040e",
   "metadata": {},
   "source": [
    "On peut tester les bases de donnée ici:"
   ]
  },
  {
   "cell_type": "code",
   "execution_count": 9,
   "id": "0fc8a6b1",
   "metadata": {},
   "outputs": [
    {
     "name": "stdout",
     "output_type": "stream",
     "text": [
      "[('AZALEA_6380', 'scratchon', 6, 3350, 8, 'bleu', 'poils', 'violet', 0, 'nez', 'carrée', \"Pizza à l'huile d'olive, au gorgonzola, à la burrata, au sugus, et au poivre.\"), ('ACHNATHERUM_3360', 'pythos', 3, 3332, 6, 'vert', 'épines', 'violet', 0, 'bec', 'carrée', \"Pizza à la fraise, et à l'aubergine.\")]\n",
      "[('AZALEA_6380', 'scratchon', 6, 3350, 8, 'blau', 'Haare', 'violett', 0, 'Nase', 'rechteckig', 'Pizza mit Gorgonzola'), ('ACHNATHERUM_3360', 'pythos', 3, 3332, 6, 'grün', 'Stachel', 'violett', 0, 'Schnabel', 'rechteckig', 'Pizza mit Burrata, Erdbeeren, Schokolade, und Paprika.')]\n"
     ]
    }
   ],
   "source": [
    "# Nom des colones\n",
    "# print(cursor.execute(\"PRAGMA table_info(extraterrestres)\").fetchall())\n",
    "# print(cursor.execute(f\"SELECT * from extraterrestres LIMIT 3\").fetchall())\n",
    "print(cursor.execute(\"SELECT * from extraterrestres LIMIT 2\").fetchall())\n",
    "print(cursor_de.execute(\"SELECT * from Ausserirdische LIMIT 2\").fetchall())"
   ]
  },
  {
   "cell_type": "markdown",
   "id": "b0aba7a3",
   "metadata": {},
   "source": [
    "Enfin, il faut toujours sauvegarder les changements dans la base de données puis rompre la connection."
   ]
  },
  {
   "cell_type": "code",
   "execution_count": 10,
   "id": "7271657b",
   "metadata": {
    "scrolled": true
   },
   "outputs": [],
   "source": [
    "#sauver les changements\n",
    "connection.commit()\n",
    "connection_de.commit()\n",
    "#fermer la connection à la base de données\n",
    "cursor.close()\n",
    "cursor_de.close()\n",
    "connection.close()\n",
    "connection_de.close()"
   ]
  },
  {
   "cell_type": "markdown",
   "id": "f02dea01",
   "metadata": {},
   "source": [
    "### Génération d'image d'alien à partir de description\n",
    "On essaie de générer des dessins d'aliens à partir de leur description. Pour cela on prépare différentes versions des différents aliens avec adobe illustrator. Rester dans les délimitations pour les différentes parties pour que ça match. Fichier->Exporter->Exporter sous-> cocher utiliser les plans de travail, Exporter en png. Puis on les combines. On peut donc créer un alien pour chaque entrée dans la base de données. Cela pourrait également être une autre partie dans l'atelier: créer son propre alien (plus en lien avec le design mais ça pourrait être amusant quand même).\n",
    "\n",
    "La génération d'aliens est implémentée dans le document ```aliens.py``` et il y a un liste d'attributs à modifier."
   ]
  },
  {
   "cell_type": "code",
   "execution_count": 15,
   "id": "8e86defc",
   "metadata": {},
   "outputs": [],
   "source": [
    "# with open('merged.svg','r') as f:\n",
    "#     svg_data = f.read()\n",
    "# mod_image = svg_data.replace(\"#66b32e\",\"#0000ff\")\n",
    "# SVG(mod_image)\n",
    "for i in range(20):\n",
    "    draw_alien_svg(filename = f\"alien{i}.svg\", save=True, peau=[\"écailles\",\"poils\",\"rien\"][i%3])"
   ]
  },
  {
   "cell_type": "markdown",
   "id": "8f5019c1",
   "metadata": {},
   "source": [
    "Faire une fonction ou on peut mettre les attributs pour générer les aliens. \n",
    "Afficher alien avec nom CORVUS_42 (va chercher attributs de corvus 42 et affiche).\n",
    "Sauvegarder quelques images.\n",
    "\n",
    "Important de savoir comment nommer les aliens"
   ]
  },
  {
   "cell_type": "code",
   "execution_count": 9,
   "id": "a5d23ee9",
   "metadata": {},
   "outputs": [
    {
     "name": "stdout",
     "output_type": "stream",
     "text": [
      "{(116, 171, 65, 255), (122, 149, 92, 255), (0, 0, 0, 48), (0, 0, 0, 112), (124, 156, 88, 255), (0, 0, 0, 176), (119, 142, 96, 255), (0, 0, 0, 240), (96, 104, 89, 255), (0, 0, 0, 255), (74, 78, 71, 255), (0, 0, 0, 32), (85, 91, 80, 255), (0, 0, 0, 96), (61, 62, 59, 255), (0, 0, 0, 160), (0, 0, 0, 224), (32, 32, 31, 255), (123, 161, 81, 255), (101, 179, 46, 255), (255, 255, 255, 0), (0, 0, 0, 16), (0, 0, 0, 80), (0, 0, 0, 144), (0, 0, 0, 208), (110, 175, 56, 255), (110, 125, 96, 255), (115, 134, 96, 255), (0, 0, 0, 64), (104, 116, 93, 255), (0, 0, 0, 128), (0, 0, 0, 192), (121, 167, 74, 255)}\n"
     ]
    }
   ],
   "source": [
    "with open('merged.svg','r') as f:\n",
    "    svg_data = f.read()\n",
    "mod_image = svg_data.replace(\"#66b32e\",\"#0000ff\")\n",
    "SVG(mod_image)"
   ]
  },
  {
   "cell_type": "code",
   "execution_count": null,
   "id": "35c940a3",
   "metadata": {},
   "outputs": [],
   "source": []
  }
 ],
 "metadata": {
  "kernelspec": {
   "display_name": "atelierSQL",
   "language": "python",
   "name": "ateliersql"
  },
  "language_info": {
   "codemirror_mode": {
    "name": "ipython",
    "version": 3
   },
   "file_extension": ".py",
   "mimetype": "text/x-python",
   "name": "python",
   "nbconvert_exporter": "python",
   "pygments_lexer": "ipython3",
   "version": "3.11.5"
  }
 },
 "nbformat": 4,
 "nbformat_minor": 5
}
